{
  "nbformat": 4,
  "nbformat_minor": 0,
  "metadata": {
    "colab": {
      "provenance": [],
      "gpuType": "V28",
      "include_colab_link": true
    },
    "kernelspec": {
      "name": "python3",
      "display_name": "Python 3"
    },
    "language_info": {
      "name": "python"
    },
    "accelerator": "TPU",
    "widgets": {
      "application/vnd.jupyter.widget-state+json": {
        "39896c970a004d2c90a1bc5b95bd6fef": {
          "model_module": "@jupyter-widgets/controls",
          "model_name": "HBoxModel",
          "model_module_version": "1.5.0",
          "state": {
            "_dom_classes": [],
            "_model_module": "@jupyter-widgets/controls",
            "_model_module_version": "1.5.0",
            "_model_name": "HBoxModel",
            "_view_count": null,
            "_view_module": "@jupyter-widgets/controls",
            "_view_module_version": "1.5.0",
            "_view_name": "HBoxView",
            "box_style": "",
            "children": [
              "IPY_MODEL_2b999882399046ec8d574096fb2efd0e",
              "IPY_MODEL_fbbc523b5df341b8913c0dbea76c4cb3",
              "IPY_MODEL_d829b3598b9b4631ba74f700d6355db4"
            ],
            "layout": "IPY_MODEL_fcc6fdb7c98d4fb0ac480ae545c33b5a"
          }
        },
        "2b999882399046ec8d574096fb2efd0e": {
          "model_module": "@jupyter-widgets/controls",
          "model_name": "HTMLModel",
          "model_module_version": "1.5.0",
          "state": {
            "_dom_classes": [],
            "_model_module": "@jupyter-widgets/controls",
            "_model_module_version": "1.5.0",
            "_model_name": "HTMLModel",
            "_view_count": null,
            "_view_module": "@jupyter-widgets/controls",
            "_view_module_version": "1.5.0",
            "_view_name": "HTMLView",
            "description": "",
            "description_tooltip": null,
            "layout": "IPY_MODEL_d73f934bc3334cf1971230cf214a79aa",
            "placeholder": "​",
            "style": "IPY_MODEL_05ede2fac8e847c7bb1b9b24e4e12b01",
            "value": "vocab.txt: 100%"
          }
        },
        "fbbc523b5df341b8913c0dbea76c4cb3": {
          "model_module": "@jupyter-widgets/controls",
          "model_name": "FloatProgressModel",
          "model_module_version": "1.5.0",
          "state": {
            "_dom_classes": [],
            "_model_module": "@jupyter-widgets/controls",
            "_model_module_version": "1.5.0",
            "_model_name": "FloatProgressModel",
            "_view_count": null,
            "_view_module": "@jupyter-widgets/controls",
            "_view_module_version": "1.5.0",
            "_view_name": "ProgressView",
            "bar_style": "success",
            "description": "",
            "description_tooltip": null,
            "layout": "IPY_MODEL_1777207b384e4625844ba8f856ba2de5",
            "max": 231508,
            "min": 0,
            "orientation": "horizontal",
            "style": "IPY_MODEL_9540cd24b491423d824a865dcae76260",
            "value": 231508
          }
        },
        "d829b3598b9b4631ba74f700d6355db4": {
          "model_module": "@jupyter-widgets/controls",
          "model_name": "HTMLModel",
          "model_module_version": "1.5.0",
          "state": {
            "_dom_classes": [],
            "_model_module": "@jupyter-widgets/controls",
            "_model_module_version": "1.5.0",
            "_model_name": "HTMLModel",
            "_view_count": null,
            "_view_module": "@jupyter-widgets/controls",
            "_view_module_version": "1.5.0",
            "_view_name": "HTMLView",
            "description": "",
            "description_tooltip": null,
            "layout": "IPY_MODEL_fef69e32297a47d9b2a3026c354fcaa3",
            "placeholder": "​",
            "style": "IPY_MODEL_d59c8f21c5d448df9a03d65466467f8d",
            "value": " 232k/232k [00:00&lt;00:00, 4.00MB/s]"
          }
        },
        "fcc6fdb7c98d4fb0ac480ae545c33b5a": {
          "model_module": "@jupyter-widgets/base",
          "model_name": "LayoutModel",
          "model_module_version": "1.2.0",
          "state": {
            "_model_module": "@jupyter-widgets/base",
            "_model_module_version": "1.2.0",
            "_model_name": "LayoutModel",
            "_view_count": null,
            "_view_module": "@jupyter-widgets/base",
            "_view_module_version": "1.2.0",
            "_view_name": "LayoutView",
            "align_content": null,
            "align_items": null,
            "align_self": null,
            "border": null,
            "bottom": null,
            "display": null,
            "flex": null,
            "flex_flow": null,
            "grid_area": null,
            "grid_auto_columns": null,
            "grid_auto_flow": null,
            "grid_auto_rows": null,
            "grid_column": null,
            "grid_gap": null,
            "grid_row": null,
            "grid_template_areas": null,
            "grid_template_columns": null,
            "grid_template_rows": null,
            "height": null,
            "justify_content": null,
            "justify_items": null,
            "left": null,
            "margin": null,
            "max_height": null,
            "max_width": null,
            "min_height": null,
            "min_width": null,
            "object_fit": null,
            "object_position": null,
            "order": null,
            "overflow": null,
            "overflow_x": null,
            "overflow_y": null,
            "padding": null,
            "right": null,
            "top": null,
            "visibility": null,
            "width": null
          }
        },
        "d73f934bc3334cf1971230cf214a79aa": {
          "model_module": "@jupyter-widgets/base",
          "model_name": "LayoutModel",
          "model_module_version": "1.2.0",
          "state": {
            "_model_module": "@jupyter-widgets/base",
            "_model_module_version": "1.2.0",
            "_model_name": "LayoutModel",
            "_view_count": null,
            "_view_module": "@jupyter-widgets/base",
            "_view_module_version": "1.2.0",
            "_view_name": "LayoutView",
            "align_content": null,
            "align_items": null,
            "align_self": null,
            "border": null,
            "bottom": null,
            "display": null,
            "flex": null,
            "flex_flow": null,
            "grid_area": null,
            "grid_auto_columns": null,
            "grid_auto_flow": null,
            "grid_auto_rows": null,
            "grid_column": null,
            "grid_gap": null,
            "grid_row": null,
            "grid_template_areas": null,
            "grid_template_columns": null,
            "grid_template_rows": null,
            "height": null,
            "justify_content": null,
            "justify_items": null,
            "left": null,
            "margin": null,
            "max_height": null,
            "max_width": null,
            "min_height": null,
            "min_width": null,
            "object_fit": null,
            "object_position": null,
            "order": null,
            "overflow": null,
            "overflow_x": null,
            "overflow_y": null,
            "padding": null,
            "right": null,
            "top": null,
            "visibility": null,
            "width": null
          }
        },
        "05ede2fac8e847c7bb1b9b24e4e12b01": {
          "model_module": "@jupyter-widgets/controls",
          "model_name": "DescriptionStyleModel",
          "model_module_version": "1.5.0",
          "state": {
            "_model_module": "@jupyter-widgets/controls",
            "_model_module_version": "1.5.0",
            "_model_name": "DescriptionStyleModel",
            "_view_count": null,
            "_view_module": "@jupyter-widgets/base",
            "_view_module_version": "1.2.0",
            "_view_name": "StyleView",
            "description_width": ""
          }
        },
        "1777207b384e4625844ba8f856ba2de5": {
          "model_module": "@jupyter-widgets/base",
          "model_name": "LayoutModel",
          "model_module_version": "1.2.0",
          "state": {
            "_model_module": "@jupyter-widgets/base",
            "_model_module_version": "1.2.0",
            "_model_name": "LayoutModel",
            "_view_count": null,
            "_view_module": "@jupyter-widgets/base",
            "_view_module_version": "1.2.0",
            "_view_name": "LayoutView",
            "align_content": null,
            "align_items": null,
            "align_self": null,
            "border": null,
            "bottom": null,
            "display": null,
            "flex": null,
            "flex_flow": null,
            "grid_area": null,
            "grid_auto_columns": null,
            "grid_auto_flow": null,
            "grid_auto_rows": null,
            "grid_column": null,
            "grid_gap": null,
            "grid_row": null,
            "grid_template_areas": null,
            "grid_template_columns": null,
            "grid_template_rows": null,
            "height": null,
            "justify_content": null,
            "justify_items": null,
            "left": null,
            "margin": null,
            "max_height": null,
            "max_width": null,
            "min_height": null,
            "min_width": null,
            "object_fit": null,
            "object_position": null,
            "order": null,
            "overflow": null,
            "overflow_x": null,
            "overflow_y": null,
            "padding": null,
            "right": null,
            "top": null,
            "visibility": null,
            "width": null
          }
        },
        "9540cd24b491423d824a865dcae76260": {
          "model_module": "@jupyter-widgets/controls",
          "model_name": "ProgressStyleModel",
          "model_module_version": "1.5.0",
          "state": {
            "_model_module": "@jupyter-widgets/controls",
            "_model_module_version": "1.5.0",
            "_model_name": "ProgressStyleModel",
            "_view_count": null,
            "_view_module": "@jupyter-widgets/base",
            "_view_module_version": "1.2.0",
            "_view_name": "StyleView",
            "bar_color": null,
            "description_width": ""
          }
        },
        "fef69e32297a47d9b2a3026c354fcaa3": {
          "model_module": "@jupyter-widgets/base",
          "model_name": "LayoutModel",
          "model_module_version": "1.2.0",
          "state": {
            "_model_module": "@jupyter-widgets/base",
            "_model_module_version": "1.2.0",
            "_model_name": "LayoutModel",
            "_view_count": null,
            "_view_module": "@jupyter-widgets/base",
            "_view_module_version": "1.2.0",
            "_view_name": "LayoutView",
            "align_content": null,
            "align_items": null,
            "align_self": null,
            "border": null,
            "bottom": null,
            "display": null,
            "flex": null,
            "flex_flow": null,
            "grid_area": null,
            "grid_auto_columns": null,
            "grid_auto_flow": null,
            "grid_auto_rows": null,
            "grid_column": null,
            "grid_gap": null,
            "grid_row": null,
            "grid_template_areas": null,
            "grid_template_columns": null,
            "grid_template_rows": null,
            "height": null,
            "justify_content": null,
            "justify_items": null,
            "left": null,
            "margin": null,
            "max_height": null,
            "max_width": null,
            "min_height": null,
            "min_width": null,
            "object_fit": null,
            "object_position": null,
            "order": null,
            "overflow": null,
            "overflow_x": null,
            "overflow_y": null,
            "padding": null,
            "right": null,
            "top": null,
            "visibility": null,
            "width": null
          }
        },
        "d59c8f21c5d448df9a03d65466467f8d": {
          "model_module": "@jupyter-widgets/controls",
          "model_name": "DescriptionStyleModel",
          "model_module_version": "1.5.0",
          "state": {
            "_model_module": "@jupyter-widgets/controls",
            "_model_module_version": "1.5.0",
            "_model_name": "DescriptionStyleModel",
            "_view_count": null,
            "_view_module": "@jupyter-widgets/base",
            "_view_module_version": "1.2.0",
            "_view_name": "StyleView",
            "description_width": ""
          }
        },
        "f2bb4fe7b86141b6a2df81bd80048d60": {
          "model_module": "@jupyter-widgets/controls",
          "model_name": "HBoxModel",
          "model_module_version": "1.5.0",
          "state": {
            "_dom_classes": [],
            "_model_module": "@jupyter-widgets/controls",
            "_model_module_version": "1.5.0",
            "_model_name": "HBoxModel",
            "_view_count": null,
            "_view_module": "@jupyter-widgets/controls",
            "_view_module_version": "1.5.0",
            "_view_name": "HBoxView",
            "box_style": "",
            "children": [
              "IPY_MODEL_47247762dda34110abe8dc23d6565abb",
              "IPY_MODEL_2d87e16d4e5248d4b715ba26d98967e6",
              "IPY_MODEL_4fb3c30307f1494887116cf4a062c2ab"
            ],
            "layout": "IPY_MODEL_765384c15ce94eceab6fc24fd41ba09f"
          }
        },
        "47247762dda34110abe8dc23d6565abb": {
          "model_module": "@jupyter-widgets/controls",
          "model_name": "HTMLModel",
          "model_module_version": "1.5.0",
          "state": {
            "_dom_classes": [],
            "_model_module": "@jupyter-widgets/controls",
            "_model_module_version": "1.5.0",
            "_model_name": "HTMLModel",
            "_view_count": null,
            "_view_module": "@jupyter-widgets/controls",
            "_view_module_version": "1.5.0",
            "_view_name": "HTMLView",
            "description": "",
            "description_tooltip": null,
            "layout": "IPY_MODEL_b5f453c8a01c457493c4068b06294761",
            "placeholder": "​",
            "style": "IPY_MODEL_c2a8fbe2af2f4c5fabb9f65544b2b81e",
            "value": "config.json: 100%"
          }
        },
        "2d87e16d4e5248d4b715ba26d98967e6": {
          "model_module": "@jupyter-widgets/controls",
          "model_name": "FloatProgressModel",
          "model_module_version": "1.5.0",
          "state": {
            "_dom_classes": [],
            "_model_module": "@jupyter-widgets/controls",
            "_model_module_version": "1.5.0",
            "_model_name": "FloatProgressModel",
            "_view_count": null,
            "_view_module": "@jupyter-widgets/controls",
            "_view_module_version": "1.5.0",
            "_view_name": "ProgressView",
            "bar_style": "success",
            "description": "",
            "description_tooltip": null,
            "layout": "IPY_MODEL_c3788a0e4e034421b3714a7122761e27",
            "max": 409,
            "min": 0,
            "orientation": "horizontal",
            "style": "IPY_MODEL_9d43bd8822884288a2619bafcec7c01a",
            "value": 409
          }
        },
        "4fb3c30307f1494887116cf4a062c2ab": {
          "model_module": "@jupyter-widgets/controls",
          "model_name": "HTMLModel",
          "model_module_version": "1.5.0",
          "state": {
            "_dom_classes": [],
            "_model_module": "@jupyter-widgets/controls",
            "_model_module_version": "1.5.0",
            "_model_name": "HTMLModel",
            "_view_count": null,
            "_view_module": "@jupyter-widgets/controls",
            "_view_module_version": "1.5.0",
            "_view_name": "HTMLView",
            "description": "",
            "description_tooltip": null,
            "layout": "IPY_MODEL_36d8b2046e614a199805bcef9e2ac4f1",
            "placeholder": "​",
            "style": "IPY_MODEL_ec14ea67de20401981deb08ec636453e",
            "value": " 409/409 [00:00&lt;00:00, 38.9kB/s]"
          }
        },
        "765384c15ce94eceab6fc24fd41ba09f": {
          "model_module": "@jupyter-widgets/base",
          "model_name": "LayoutModel",
          "model_module_version": "1.2.0",
          "state": {
            "_model_module": "@jupyter-widgets/base",
            "_model_module_version": "1.2.0",
            "_model_name": "LayoutModel",
            "_view_count": null,
            "_view_module": "@jupyter-widgets/base",
            "_view_module_version": "1.2.0",
            "_view_name": "LayoutView",
            "align_content": null,
            "align_items": null,
            "align_self": null,
            "border": null,
            "bottom": null,
            "display": null,
            "flex": null,
            "flex_flow": null,
            "grid_area": null,
            "grid_auto_columns": null,
            "grid_auto_flow": null,
            "grid_auto_rows": null,
            "grid_column": null,
            "grid_gap": null,
            "grid_row": null,
            "grid_template_areas": null,
            "grid_template_columns": null,
            "grid_template_rows": null,
            "height": null,
            "justify_content": null,
            "justify_items": null,
            "left": null,
            "margin": null,
            "max_height": null,
            "max_width": null,
            "min_height": null,
            "min_width": null,
            "object_fit": null,
            "object_position": null,
            "order": null,
            "overflow": null,
            "overflow_x": null,
            "overflow_y": null,
            "padding": null,
            "right": null,
            "top": null,
            "visibility": null,
            "width": null
          }
        },
        "b5f453c8a01c457493c4068b06294761": {
          "model_module": "@jupyter-widgets/base",
          "model_name": "LayoutModel",
          "model_module_version": "1.2.0",
          "state": {
            "_model_module": "@jupyter-widgets/base",
            "_model_module_version": "1.2.0",
            "_model_name": "LayoutModel",
            "_view_count": null,
            "_view_module": "@jupyter-widgets/base",
            "_view_module_version": "1.2.0",
            "_view_name": "LayoutView",
            "align_content": null,
            "align_items": null,
            "align_self": null,
            "border": null,
            "bottom": null,
            "display": null,
            "flex": null,
            "flex_flow": null,
            "grid_area": null,
            "grid_auto_columns": null,
            "grid_auto_flow": null,
            "grid_auto_rows": null,
            "grid_column": null,
            "grid_gap": null,
            "grid_row": null,
            "grid_template_areas": null,
            "grid_template_columns": null,
            "grid_template_rows": null,
            "height": null,
            "justify_content": null,
            "justify_items": null,
            "left": null,
            "margin": null,
            "max_height": null,
            "max_width": null,
            "min_height": null,
            "min_width": null,
            "object_fit": null,
            "object_position": null,
            "order": null,
            "overflow": null,
            "overflow_x": null,
            "overflow_y": null,
            "padding": null,
            "right": null,
            "top": null,
            "visibility": null,
            "width": null
          }
        },
        "c2a8fbe2af2f4c5fabb9f65544b2b81e": {
          "model_module": "@jupyter-widgets/controls",
          "model_name": "DescriptionStyleModel",
          "model_module_version": "1.5.0",
          "state": {
            "_model_module": "@jupyter-widgets/controls",
            "_model_module_version": "1.5.0",
            "_model_name": "DescriptionStyleModel",
            "_view_count": null,
            "_view_module": "@jupyter-widgets/base",
            "_view_module_version": "1.2.0",
            "_view_name": "StyleView",
            "description_width": ""
          }
        },
        "c3788a0e4e034421b3714a7122761e27": {
          "model_module": "@jupyter-widgets/base",
          "model_name": "LayoutModel",
          "model_module_version": "1.2.0",
          "state": {
            "_model_module": "@jupyter-widgets/base",
            "_model_module_version": "1.2.0",
            "_model_name": "LayoutModel",
            "_view_count": null,
            "_view_module": "@jupyter-widgets/base",
            "_view_module_version": "1.2.0",
            "_view_name": "LayoutView",
            "align_content": null,
            "align_items": null,
            "align_self": null,
            "border": null,
            "bottom": null,
            "display": null,
            "flex": null,
            "flex_flow": null,
            "grid_area": null,
            "grid_auto_columns": null,
            "grid_auto_flow": null,
            "grid_auto_rows": null,
            "grid_column": null,
            "grid_gap": null,
            "grid_row": null,
            "grid_template_areas": null,
            "grid_template_columns": null,
            "grid_template_rows": null,
            "height": null,
            "justify_content": null,
            "justify_items": null,
            "left": null,
            "margin": null,
            "max_height": null,
            "max_width": null,
            "min_height": null,
            "min_width": null,
            "object_fit": null,
            "object_position": null,
            "order": null,
            "overflow": null,
            "overflow_x": null,
            "overflow_y": null,
            "padding": null,
            "right": null,
            "top": null,
            "visibility": null,
            "width": null
          }
        },
        "9d43bd8822884288a2619bafcec7c01a": {
          "model_module": "@jupyter-widgets/controls",
          "model_name": "ProgressStyleModel",
          "model_module_version": "1.5.0",
          "state": {
            "_model_module": "@jupyter-widgets/controls",
            "_model_module_version": "1.5.0",
            "_model_name": "ProgressStyleModel",
            "_view_count": null,
            "_view_module": "@jupyter-widgets/base",
            "_view_module_version": "1.2.0",
            "_view_name": "StyleView",
            "bar_color": null,
            "description_width": ""
          }
        },
        "36d8b2046e614a199805bcef9e2ac4f1": {
          "model_module": "@jupyter-widgets/base",
          "model_name": "LayoutModel",
          "model_module_version": "1.2.0",
          "state": {
            "_model_module": "@jupyter-widgets/base",
            "_model_module_version": "1.2.0",
            "_model_name": "LayoutModel",
            "_view_count": null,
            "_view_module": "@jupyter-widgets/base",
            "_view_module_version": "1.2.0",
            "_view_name": "LayoutView",
            "align_content": null,
            "align_items": null,
            "align_self": null,
            "border": null,
            "bottom": null,
            "display": null,
            "flex": null,
            "flex_flow": null,
            "grid_area": null,
            "grid_auto_columns": null,
            "grid_auto_flow": null,
            "grid_auto_rows": null,
            "grid_column": null,
            "grid_gap": null,
            "grid_row": null,
            "grid_template_areas": null,
            "grid_template_columns": null,
            "grid_template_rows": null,
            "height": null,
            "justify_content": null,
            "justify_items": null,
            "left": null,
            "margin": null,
            "max_height": null,
            "max_width": null,
            "min_height": null,
            "min_width": null,
            "object_fit": null,
            "object_position": null,
            "order": null,
            "overflow": null,
            "overflow_x": null,
            "overflow_y": null,
            "padding": null,
            "right": null,
            "top": null,
            "visibility": null,
            "width": null
          }
        },
        "ec14ea67de20401981deb08ec636453e": {
          "model_module": "@jupyter-widgets/controls",
          "model_name": "DescriptionStyleModel",
          "model_module_version": "1.5.0",
          "state": {
            "_model_module": "@jupyter-widgets/controls",
            "_model_module_version": "1.5.0",
            "_model_name": "DescriptionStyleModel",
            "_view_count": null,
            "_view_module": "@jupyter-widgets/base",
            "_view_module_version": "1.2.0",
            "_view_name": "StyleView",
            "description_width": ""
          }
        }
      }
    }
  },
  "cells": [
    {
      "cell_type": "markdown",
      "metadata": {
        "id": "view-in-github",
        "colab_type": "text"
      },
      "source": [
        "<a href=\"https://colab.research.google.com/github/ankanghosh/twitter-sentiment-classification-with-tinybert/blob/main/TwitterSentimentClassificationUsingTinyBERT.ipynb\" target=\"_parent\"><img src=\"https://colab.research.google.com/assets/colab-badge.svg\" alt=\"Open In Colab\"/></a>"
      ]
    },
    {
      "cell_type": "markdown",
      "source": [
        "# Twitter Sentiment Classification"
      ],
      "metadata": {
        "id": "6M3YThq4Eo0-"
      }
    },
    {
      "cell_type": "markdown",
      "source": [
        "## Motivation"
      ],
      "metadata": {
        "id": "Pl3ut1yDFz8k"
      }
    },
    {
      "cell_type": "markdown",
      "source": [
        "We will use the [Sentiment140 dataset](http://cs.stanford.edu/people/alecmgo/trainingandtestdata.zip) to classify the sentiment of Twitter messages using a light-weight, faster, and distilled form of Google's [Bidirectional Encoder Representations from Transformers](https://arxiv.org/abs/1810.04805) (BERT) model, known as [TinyBERT](https://arxiv.org/abs/1909.10351). The goal is to fine-tune the pre-trained TinyBERT model with the data for sentiment classification and leverage the rich capabilities of TinyBERT by updating the weights, embeddings, and complex text representations it has already learnt.\n",
        "\n",
        "While Twitter has been rebranded to *X*, the messages in the dataset are from 2009, when Twitter was *Twitter* and tweets were limited to 140 characters. We will therefore refer to *X* as *Twitter* in this work.\n",
        "\n",
        "Sentiment140 allows us to discover the sentiment of a brand, product, or topic on Twitter.\n",
        "\n",
        "Each of the training and test data comprise of a CSV file with emoticons removed. More [here](https://www.tensorflow.org/datasets/catalog/sentiment140).\n",
        "\n",
        "Note: The [TensorFlow dataset link](https://www.tensorflow.org/datasets/catalog/sentiment140) does state that the labels included in the dataset are 0 *(negative)*, 2 *(neutral)*, and 4 *(positive)*. However, the training dataset currently contains the labels 0 *(negative)* and 4 *(positive)*. The test dataset additionally contains the label 2 *(neutral)*, apart from 0 *(negative)* and 4 *(positive)*."
      ],
      "metadata": {
        "id": "cQ2Pm6EoF269"
      }
    },
    {
      "cell_type": "markdown",
      "source": [
        "## Data and computing resources"
      ],
      "metadata": {
        "id": "w4KtJqE5UueS"
      }
    },
    {
      "cell_type": "markdown",
      "source": [
        "We will first go ahead and [download](http://cs.stanford.edu/people/alecmgo/trainingandtestdata.zip) the data and upload it in Google Drive. Of course, we could use the local Colab environment to store the data. However, the data is roughly of 240 MB in size (~ 1.6 million tweets) and uploading the same to Colab everytime the runtime restarts or is disconnected or is reassigned is not worth the wait.\n",
        "\n",
        "Additionally, we will require a considerable amount of computing power or RAM for processing the data (text tokenization) and for fitting the final neural network model with TinyBERT (sentiment classifier), which is not available with the free tier of Colab. We will therefore need to [upgrade](https://colab.research.google.com/signup) to *Colab Pro* or go for *Pay As you Go*, as we will need to use a GPU or a TPU to process the data and to build the model.\n",
        "\n",
        "We will be using a TPU in this work, as it is relatively cheaper than the GPUs available in the Colab environment and also because we would be leveraging TensorFlow's distributed computing capacity to optimize the training time and resources. This can be achieved by navigating as follows.\n",
        "*   Go to Runtime --> Change runtime type -->\n",
        "Select TPU v2 under Hardware accelerator.\n",
        "\n",
        "We can always monitor the usage of the resources we have selected as follows.\n",
        "*   Go to Runtime --> View resources."
      ],
      "metadata": {
        "id": "q0XoQwT4P7RN"
      }
    },
    {
      "cell_type": "markdown",
      "source": [
        "## Getting started"
      ],
      "metadata": {
        "id": "N9-L3eYDFhZJ"
      }
    },
    {
      "cell_type": "markdown",
      "source": [
        "With about ~1.6 million tweets to be trained by fine-tuning TinyBERT that itself has about 14 million parameters or weights to be updated, we are looking at huge costs in terms of computation and time. To optimize the use of computational resources and to minimize the time and cost required to train our final model, which will be a combination of TinyBERT and a basic, shallow neural network that we will create, we will use distributed computing or parallel processing on a TPU. Let us go ahead and install the `tensorflow-addons` package required to achieve parallelization."
      ],
      "metadata": {
        "id": "jPNNwlqO6Ecz"
      }
    },
    {
      "cell_type": "code",
      "source": [
        "!pip install tensorflow-addons"
      ],
      "metadata": {
        "colab": {
          "base_uri": "https://localhost:8080/"
        },
        "id": "hPN-aYFBfmoF",
        "outputId": "90055ad0-3e08-4041-d0ab-fb86d36e31aa",
        "collapsed": true
      },
      "execution_count": 1,
      "outputs": [
        {
          "output_type": "stream",
          "name": "stdout",
          "text": [
            "Collecting tensorflow-addons\n",
            "  Downloading tensorflow_addons-0.23.0-cp310-cp310-manylinux_2_17_x86_64.manylinux2014_x86_64.whl.metadata (1.8 kB)\n",
            "Requirement already satisfied: packaging in /usr/local/lib/python3.10/dist-packages (from tensorflow-addons) (24.1)\n",
            "Collecting typeguard<3.0.0,>=2.7 (from tensorflow-addons)\n",
            "  Downloading typeguard-2.13.3-py3-none-any.whl.metadata (3.6 kB)\n",
            "Downloading tensorflow_addons-0.23.0-cp310-cp310-manylinux_2_17_x86_64.manylinux2014_x86_64.whl (611 kB)\n",
            "\u001b[2K   \u001b[90m━━━━━━━━━━━━━━━━━━━━━━━━━━━━━━━━━━━━━━━━\u001b[0m \u001b[32m611.8/611.8 kB\u001b[0m \u001b[31m2.5 MB/s\u001b[0m eta \u001b[36m0:00:00\u001b[0m\n",
            "\u001b[?25hDownloading typeguard-2.13.3-py3-none-any.whl (17 kB)\n",
            "Installing collected packages: typeguard, tensorflow-addons\n",
            "Successfully installed tensorflow-addons-0.23.0 typeguard-2.13.3\n"
          ]
        }
      ]
    },
    {
      "cell_type": "markdown",
      "source": [
        "Let us load the relevant Python libaries."
      ],
      "metadata": {
        "id": "Soxh8OEYFiap"
      }
    },
    {
      "cell_type": "code",
      "execution_count": 2,
      "metadata": {
        "id": "_6pCE8Q2sNyL",
        "colab": {
          "base_uri": "https://localhost:8080/"
        },
        "outputId": "27a12e65-4c39-4c0f-e68a-206f01b9cd71"
      },
      "outputs": [
        {
          "output_type": "stream",
          "name": "stderr",
          "text": [
            "/usr/local/lib/python3.10/dist-packages/tensorflow_addons/utils/tfa_eol_msg.py:23: UserWarning: \n",
            "\n",
            "TensorFlow Addons (TFA) has ended development and introduction of new features.\n",
            "TFA has entered a minimal maintenance and release mode until a planned end of life in May 2024.\n",
            "Please modify downstream libraries to take dependencies from other repositories in our TensorFlow community (e.g. Keras, Keras-CV, and Keras-NLP). \n",
            "\n",
            "For more information see: https://github.com/tensorflow/addons/issues/2807 \n",
            "\n",
            "  warnings.warn(\n"
          ]
        }
      ],
      "source": [
        "import tensorflow as tf\n",
        "from tensorflow import keras\n",
        "from tensorflow.keras import layers\n",
        "from tensorflow.keras.optimizers.schedules import PolynomialDecay\n",
        "import tensorflow_addons as tfa\n",
        "from transformers import BertTokenizer, TFBertForSequenceClassification\n",
        "from google.colab import drive\n",
        "import pandas as pds\n",
        "import csv\n",
        "from sklearn.model_selection import train_test_split\n",
        "import matplotlib.pyplot as plt\n",
        "from sklearn.metrics import confusion_matrix\n",
        "import seaborn as sns\n",
        "\n",
        "tf.get_logger().setLevel('ERROR')"
      ]
    },
    {
      "cell_type": "markdown",
      "source": [
        "## Fetch and read the data"
      ],
      "metadata": {
        "id": "7p9mU7C9tArM"
      }
    },
    {
      "cell_type": "markdown",
      "source": [
        "Define the paths to import the training and test data from Google Drive. Additionally, we'll also create cleaned-up versions of our training and test data and save those in the same folder on Google Drive as the datasets."
      ],
      "metadata": {
        "id": "hnI0JuBBZYdA"
      }
    },
    {
      "cell_type": "code",
      "source": [
        "# Import the dataset from Google Drive.\n",
        "drive.mount('/content/drive')\n",
        "\n",
        "# Define the file paths for the training data and its cleaned-up version.\n",
        "input_train_file_path = '/content/drive/MyDrive/Datasets/Sentiment140/trainingandtestdata/training.1600000.processed.noemoticon.csv'\n",
        "output_train_file_path = '/content/drive/MyDrive/Datasets/Sentiment140/trainingandtestdata/cleaned.training.1600000.processed.noemoticon.csv'\n",
        "\n",
        "# Define the file paths for the test data and its cleaned-up version.\n",
        "input_test_file_path = '/content/drive/MyDrive/Datasets/Sentiment140/trainingandtestdata/testdata.manual.2009.06.14.csv'\n",
        "output_test_file_path = '/content/drive/MyDrive/Datasets/Sentiment140/trainingandtestdata/cleaned.testdata.manual.2009.06.14.csv'"
      ],
      "metadata": {
        "id": "B8LeinGrSsdu",
        "colab": {
          "base_uri": "https://localhost:8080/"
        },
        "outputId": "24ccb59c-e457-4a64-bc95-129c968e5be3"
      },
      "execution_count": 3,
      "outputs": [
        {
          "output_type": "stream",
          "name": "stdout",
          "text": [
            "Mounted at /content/drive\n"
          ]
        }
      ]
    },
    {
      "cell_type": "markdown",
      "source": [
        "### Clean the data"
      ],
      "metadata": {
        "id": "vQ1caWuouHVm"
      }
    },
    {
      "cell_type": "markdown",
      "source": [
        "To avoid running into potential issues with the original data, we will go ahead and read the training and test data manually, line-by-line, to identify and filter out the problemactic rows and store the cleaned-up data in a new CSV file."
      ],
      "metadata": {
        "id": "xAb-WFnZazUv"
      }
    },
    {
      "cell_type": "code",
      "source": [
        "# Read the training and test datasets line-by-line to identify problematic rows.\n",
        "# Manually filter out problematic rows and create a clean version of the CSV data file.\n",
        "\n",
        "def clean_data(input_file_path, output_file_path):\n",
        "    with open(input_file_path, 'r', encoding='ISO-8859-1') as infile, open(output_file_path, 'w', encoding='ISO-8859-1', newline='') as outfile:\n",
        "        reader = csv.reader(infile)\n",
        "        writer = csv.writer(outfile)\n",
        "\n",
        "        for row in reader:\n",
        "            try:\n",
        "                writer.writerow(row)\n",
        "            except csv.Error as e:\n",
        "                print(f'Error processing row: {row}')\n",
        "                continue"
      ],
      "metadata": {
        "id": "qxBvAt7RPT9V"
      },
      "execution_count": 4,
      "outputs": []
    },
    {
      "cell_type": "markdown",
      "source": [
        "Let us go ahead and clean the training and test data."
      ],
      "metadata": {
        "id": "DW-dzVe6uVnC"
      }
    },
    {
      "cell_type": "code",
      "source": [
        "# Clean the training data.\n",
        "clean_data(input_train_file_path, output_train_file_path)\n",
        "\n",
        "# Clean the test data.\n",
        "clean_data(input_test_file_path, output_test_file_path)"
      ],
      "metadata": {
        "id": "nTn1NKqeV7Ks"
      },
      "execution_count": 5,
      "outputs": []
    },
    {
      "cell_type": "markdown",
      "source": [
        "We will now go ahead and read the new, cleaned-up training and test data."
      ],
      "metadata": {
        "id": "hGzsoqIquP7A"
      }
    },
    {
      "cell_type": "code",
      "source": [
        "# Read the training data into a pandas DataFrame.\n",
        "raw_train_dataset = pds.read_csv(output_train_file_path, na_values='?', sep=',',\n",
        "                           skipinitialspace=True, encoding='ISO-8859-1')\n",
        "\n",
        "# Read the test data into a pandas DataFrame.\n",
        "raw_test_dataset = pds.read_csv(output_test_file_path, na_values='?', sep=',',\n",
        "                           skipinitialspace=True, encoding='ISO-8859-1')"
      ],
      "metadata": {
        "id": "Xayv93b92036"
      },
      "execution_count": 6,
      "outputs": []
    },
    {
      "cell_type": "markdown",
      "source": [
        "### Inspect the data"
      ],
      "metadata": {
        "id": "IONaXQFevMRr"
      }
    },
    {
      "cell_type": "markdown",
      "source": [
        "Let us first confirm the size of the training and test datasets in terms of the number of examples / rows in them."
      ],
      "metadata": {
        "id": "5uu6izsjPeZW"
      }
    },
    {
      "cell_type": "code",
      "source": [
        "# Confirm the number of rows / examples in the training dataset.\n",
        "num_examples_train = raw_train_dataset.shape[0]\n",
        "print(\"Number of training examples:\", num_examples_train)"
      ],
      "metadata": {
        "id": "FC6fHlEIN3Pf",
        "colab": {
          "base_uri": "https://localhost:8080/"
        },
        "outputId": "dad62159-f487-400b-c00a-40636886df8a"
      },
      "execution_count": 7,
      "outputs": [
        {
          "output_type": "stream",
          "name": "stdout",
          "text": [
            "Number of training examples: 1599999\n"
          ]
        }
      ]
    },
    {
      "cell_type": "code",
      "source": [
        "# Confirm the number of rows / examples in the test dataset.\n",
        "num_examples_test = raw_test_dataset.shape[0]\n",
        "print(\"Number of test examples:\", num_examples_test)"
      ],
      "metadata": {
        "id": "NpFUEM0RN6IC",
        "colab": {
          "base_uri": "https://localhost:8080/"
        },
        "outputId": "8486273f-7b0e-4818-f8f4-ca627610af2f"
      },
      "execution_count": 8,
      "outputs": [
        {
          "output_type": "stream",
          "name": "stdout",
          "text": [
            "Number of test examples: 497\n"
          ]
        }
      ]
    },
    {
      "cell_type": "markdown",
      "source": [
        "The next step is to investigate the cleaned-up training and test data for further analysis."
      ],
      "metadata": {
        "id": "nNScXpm-xu6D"
      }
    },
    {
      "cell_type": "code",
      "source": [
        "# Display the first few rows of the training dataset to verify.\n",
        "raw_train_dataset.head()"
      ],
      "metadata": {
        "id": "9NuNzBJHV7vo",
        "colab": {
          "base_uri": "https://localhost:8080/",
          "height": 310
        },
        "outputId": "8ed2ef96-2413-40ea-978b-1f61ebd872ff"
      },
      "execution_count": 9,
      "outputs": [
        {
          "output_type": "execute_result",
          "data": {
            "text/plain": [
              "   0  1467810369  Mon Apr 06 22:19:45 PDT 2009  NO_QUERY _TheSpecialOne_  \\\n",
              "0  0  1467810672  Mon Apr 06 22:19:49 PDT 2009  NO_QUERY   scotthamilton   \n",
              "1  0  1467810917  Mon Apr 06 22:19:53 PDT 2009  NO_QUERY        mattycus   \n",
              "2  0  1467811184  Mon Apr 06 22:19:57 PDT 2009  NO_QUERY         ElleCTF   \n",
              "3  0  1467811193  Mon Apr 06 22:19:57 PDT 2009  NO_QUERY          Karoli   \n",
              "4  0  1467811372  Mon Apr 06 22:20:00 PDT 2009  NO_QUERY        joy_wolf   \n",
              "\n",
              "  @switchfoot http://twitpic.com/2y1zl - Awww, that's a bummer.  You shoulda got David Carr of Third Day to do it. ;D  \n",
              "0  is upset that he can't update his Facebook by ...                                                                   \n",
              "1  @Kenichan I dived many times for the ball. Man...                                                                   \n",
              "2    my whole body feels itchy and like its on fire                                                                    \n",
              "3  @nationwideclass no, it's not behaving at all....                                                                   \n",
              "4                      @Kwesidei not the whole crew                                                                    "
            ],
            "text/html": [
              "\n",
              "  <div id=\"df-1e4854cc-3817-4b1c-87d1-0016c940de30\" class=\"colab-df-container\">\n",
              "    <div>\n",
              "<style scoped>\n",
              "    .dataframe tbody tr th:only-of-type {\n",
              "        vertical-align: middle;\n",
              "    }\n",
              "\n",
              "    .dataframe tbody tr th {\n",
              "        vertical-align: top;\n",
              "    }\n",
              "\n",
              "    .dataframe thead th {\n",
              "        text-align: right;\n",
              "    }\n",
              "</style>\n",
              "<table border=\"1\" class=\"dataframe\">\n",
              "  <thead>\n",
              "    <tr style=\"text-align: right;\">\n",
              "      <th></th>\n",
              "      <th>0</th>\n",
              "      <th>1467810369</th>\n",
              "      <th>Mon Apr 06 22:19:45 PDT 2009</th>\n",
              "      <th>NO_QUERY</th>\n",
              "      <th>_TheSpecialOne_</th>\n",
              "      <th>@switchfoot http://twitpic.com/2y1zl - Awww, that's a bummer.  You shoulda got David Carr of Third Day to do it. ;D</th>\n",
              "    </tr>\n",
              "  </thead>\n",
              "  <tbody>\n",
              "    <tr>\n",
              "      <th>0</th>\n",
              "      <td>0</td>\n",
              "      <td>1467810672</td>\n",
              "      <td>Mon Apr 06 22:19:49 PDT 2009</td>\n",
              "      <td>NO_QUERY</td>\n",
              "      <td>scotthamilton</td>\n",
              "      <td>is upset that he can't update his Facebook by ...</td>\n",
              "    </tr>\n",
              "    <tr>\n",
              "      <th>1</th>\n",
              "      <td>0</td>\n",
              "      <td>1467810917</td>\n",
              "      <td>Mon Apr 06 22:19:53 PDT 2009</td>\n",
              "      <td>NO_QUERY</td>\n",
              "      <td>mattycus</td>\n",
              "      <td>@Kenichan I dived many times for the ball. Man...</td>\n",
              "    </tr>\n",
              "    <tr>\n",
              "      <th>2</th>\n",
              "      <td>0</td>\n",
              "      <td>1467811184</td>\n",
              "      <td>Mon Apr 06 22:19:57 PDT 2009</td>\n",
              "      <td>NO_QUERY</td>\n",
              "      <td>ElleCTF</td>\n",
              "      <td>my whole body feels itchy and like its on fire</td>\n",
              "    </tr>\n",
              "    <tr>\n",
              "      <th>3</th>\n",
              "      <td>0</td>\n",
              "      <td>1467811193</td>\n",
              "      <td>Mon Apr 06 22:19:57 PDT 2009</td>\n",
              "      <td>NO_QUERY</td>\n",
              "      <td>Karoli</td>\n",
              "      <td>@nationwideclass no, it's not behaving at all....</td>\n",
              "    </tr>\n",
              "    <tr>\n",
              "      <th>4</th>\n",
              "      <td>0</td>\n",
              "      <td>1467811372</td>\n",
              "      <td>Mon Apr 06 22:20:00 PDT 2009</td>\n",
              "      <td>NO_QUERY</td>\n",
              "      <td>joy_wolf</td>\n",
              "      <td>@Kwesidei not the whole crew</td>\n",
              "    </tr>\n",
              "  </tbody>\n",
              "</table>\n",
              "</div>\n",
              "    <div class=\"colab-df-buttons\">\n",
              "\n",
              "  <div class=\"colab-df-container\">\n",
              "    <button class=\"colab-df-convert\" onclick=\"convertToInteractive('df-1e4854cc-3817-4b1c-87d1-0016c940de30')\"\n",
              "            title=\"Convert this dataframe to an interactive table.\"\n",
              "            style=\"display:none;\">\n",
              "\n",
              "  <svg xmlns=\"http://www.w3.org/2000/svg\" height=\"24px\" viewBox=\"0 -960 960 960\">\n",
              "    <path d=\"M120-120v-720h720v720H120Zm60-500h600v-160H180v160Zm220 220h160v-160H400v160Zm0 220h160v-160H400v160ZM180-400h160v-160H180v160Zm440 0h160v-160H620v160ZM180-180h160v-160H180v160Zm440 0h160v-160H620v160Z\"/>\n",
              "  </svg>\n",
              "    </button>\n",
              "\n",
              "  <style>\n",
              "    .colab-df-container {\n",
              "      display:flex;\n",
              "      gap: 12px;\n",
              "    }\n",
              "\n",
              "    .colab-df-convert {\n",
              "      background-color: #E8F0FE;\n",
              "      border: none;\n",
              "      border-radius: 50%;\n",
              "      cursor: pointer;\n",
              "      display: none;\n",
              "      fill: #1967D2;\n",
              "      height: 32px;\n",
              "      padding: 0 0 0 0;\n",
              "      width: 32px;\n",
              "    }\n",
              "\n",
              "    .colab-df-convert:hover {\n",
              "      background-color: #E2EBFA;\n",
              "      box-shadow: 0px 1px 2px rgba(60, 64, 67, 0.3), 0px 1px 3px 1px rgba(60, 64, 67, 0.15);\n",
              "      fill: #174EA6;\n",
              "    }\n",
              "\n",
              "    .colab-df-buttons div {\n",
              "      margin-bottom: 4px;\n",
              "    }\n",
              "\n",
              "    [theme=dark] .colab-df-convert {\n",
              "      background-color: #3B4455;\n",
              "      fill: #D2E3FC;\n",
              "    }\n",
              "\n",
              "    [theme=dark] .colab-df-convert:hover {\n",
              "      background-color: #434B5C;\n",
              "      box-shadow: 0px 1px 3px 1px rgba(0, 0, 0, 0.15);\n",
              "      filter: drop-shadow(0px 1px 2px rgba(0, 0, 0, 0.3));\n",
              "      fill: #FFFFFF;\n",
              "    }\n",
              "  </style>\n",
              "\n",
              "    <script>\n",
              "      const buttonEl =\n",
              "        document.querySelector('#df-1e4854cc-3817-4b1c-87d1-0016c940de30 button.colab-df-convert');\n",
              "      buttonEl.style.display =\n",
              "        google.colab.kernel.accessAllowed ? 'block' : 'none';\n",
              "\n",
              "      async function convertToInteractive(key) {\n",
              "        const element = document.querySelector('#df-1e4854cc-3817-4b1c-87d1-0016c940de30');\n",
              "        const dataTable =\n",
              "          await google.colab.kernel.invokeFunction('convertToInteractive',\n",
              "                                                    [key], {});\n",
              "        if (!dataTable) return;\n",
              "\n",
              "        const docLinkHtml = 'Like what you see? Visit the ' +\n",
              "          '<a target=\"_blank\" href=https://colab.research.google.com/notebooks/data_table.ipynb>data table notebook</a>'\n",
              "          + ' to learn more about interactive tables.';\n",
              "        element.innerHTML = '';\n",
              "        dataTable['output_type'] = 'display_data';\n",
              "        await google.colab.output.renderOutput(dataTable, element);\n",
              "        const docLink = document.createElement('div');\n",
              "        docLink.innerHTML = docLinkHtml;\n",
              "        element.appendChild(docLink);\n",
              "      }\n",
              "    </script>\n",
              "  </div>\n",
              "\n",
              "\n",
              "<div id=\"df-6c192b3c-5e1b-4b1b-87cf-b081d9d4ede2\">\n",
              "  <button class=\"colab-df-quickchart\" onclick=\"quickchart('df-6c192b3c-5e1b-4b1b-87cf-b081d9d4ede2')\"\n",
              "            title=\"Suggest charts\"\n",
              "            style=\"display:none;\">\n",
              "\n",
              "<svg xmlns=\"http://www.w3.org/2000/svg\" height=\"24px\"viewBox=\"0 0 24 24\"\n",
              "     width=\"24px\">\n",
              "    <g>\n",
              "        <path d=\"M19 3H5c-1.1 0-2 .9-2 2v14c0 1.1.9 2 2 2h14c1.1 0 2-.9 2-2V5c0-1.1-.9-2-2-2zM9 17H7v-7h2v7zm4 0h-2V7h2v10zm4 0h-2v-4h2v4z\"/>\n",
              "    </g>\n",
              "</svg>\n",
              "  </button>\n",
              "\n",
              "<style>\n",
              "  .colab-df-quickchart {\n",
              "      --bg-color: #E8F0FE;\n",
              "      --fill-color: #1967D2;\n",
              "      --hover-bg-color: #E2EBFA;\n",
              "      --hover-fill-color: #174EA6;\n",
              "      --disabled-fill-color: #AAA;\n",
              "      --disabled-bg-color: #DDD;\n",
              "  }\n",
              "\n",
              "  [theme=dark] .colab-df-quickchart {\n",
              "      --bg-color: #3B4455;\n",
              "      --fill-color: #D2E3FC;\n",
              "      --hover-bg-color: #434B5C;\n",
              "      --hover-fill-color: #FFFFFF;\n",
              "      --disabled-bg-color: #3B4455;\n",
              "      --disabled-fill-color: #666;\n",
              "  }\n",
              "\n",
              "  .colab-df-quickchart {\n",
              "    background-color: var(--bg-color);\n",
              "    border: none;\n",
              "    border-radius: 50%;\n",
              "    cursor: pointer;\n",
              "    display: none;\n",
              "    fill: var(--fill-color);\n",
              "    height: 32px;\n",
              "    padding: 0;\n",
              "    width: 32px;\n",
              "  }\n",
              "\n",
              "  .colab-df-quickchart:hover {\n",
              "    background-color: var(--hover-bg-color);\n",
              "    box-shadow: 0 1px 2px rgba(60, 64, 67, 0.3), 0 1px 3px 1px rgba(60, 64, 67, 0.15);\n",
              "    fill: var(--button-hover-fill-color);\n",
              "  }\n",
              "\n",
              "  .colab-df-quickchart-complete:disabled,\n",
              "  .colab-df-quickchart-complete:disabled:hover {\n",
              "    background-color: var(--disabled-bg-color);\n",
              "    fill: var(--disabled-fill-color);\n",
              "    box-shadow: none;\n",
              "  }\n",
              "\n",
              "  .colab-df-spinner {\n",
              "    border: 2px solid var(--fill-color);\n",
              "    border-color: transparent;\n",
              "    border-bottom-color: var(--fill-color);\n",
              "    animation:\n",
              "      spin 1s steps(1) infinite;\n",
              "  }\n",
              "\n",
              "  @keyframes spin {\n",
              "    0% {\n",
              "      border-color: transparent;\n",
              "      border-bottom-color: var(--fill-color);\n",
              "      border-left-color: var(--fill-color);\n",
              "    }\n",
              "    20% {\n",
              "      border-color: transparent;\n",
              "      border-left-color: var(--fill-color);\n",
              "      border-top-color: var(--fill-color);\n",
              "    }\n",
              "    30% {\n",
              "      border-color: transparent;\n",
              "      border-left-color: var(--fill-color);\n",
              "      border-top-color: var(--fill-color);\n",
              "      border-right-color: var(--fill-color);\n",
              "    }\n",
              "    40% {\n",
              "      border-color: transparent;\n",
              "      border-right-color: var(--fill-color);\n",
              "      border-top-color: var(--fill-color);\n",
              "    }\n",
              "    60% {\n",
              "      border-color: transparent;\n",
              "      border-right-color: var(--fill-color);\n",
              "    }\n",
              "    80% {\n",
              "      border-color: transparent;\n",
              "      border-right-color: var(--fill-color);\n",
              "      border-bottom-color: var(--fill-color);\n",
              "    }\n",
              "    90% {\n",
              "      border-color: transparent;\n",
              "      border-bottom-color: var(--fill-color);\n",
              "    }\n",
              "  }\n",
              "</style>\n",
              "\n",
              "  <script>\n",
              "    async function quickchart(key) {\n",
              "      const quickchartButtonEl =\n",
              "        document.querySelector('#' + key + ' button');\n",
              "      quickchartButtonEl.disabled = true;  // To prevent multiple clicks.\n",
              "      quickchartButtonEl.classList.add('colab-df-spinner');\n",
              "      try {\n",
              "        const charts = await google.colab.kernel.invokeFunction(\n",
              "            'suggestCharts', [key], {});\n",
              "      } catch (error) {\n",
              "        console.error('Error during call to suggestCharts:', error);\n",
              "      }\n",
              "      quickchartButtonEl.classList.remove('colab-df-spinner');\n",
              "      quickchartButtonEl.classList.add('colab-df-quickchart-complete');\n",
              "    }\n",
              "    (() => {\n",
              "      let quickchartButtonEl =\n",
              "        document.querySelector('#df-6c192b3c-5e1b-4b1b-87cf-b081d9d4ede2 button');\n",
              "      quickchartButtonEl.style.display =\n",
              "        google.colab.kernel.accessAllowed ? 'block' : 'none';\n",
              "    })();\n",
              "  </script>\n",
              "</div>\n",
              "\n",
              "    </div>\n",
              "  </div>\n"
            ],
            "application/vnd.google.colaboratory.intrinsic+json": {
              "type": "dataframe",
              "variable_name": "raw_train_dataset"
            }
          },
          "metadata": {},
          "execution_count": 9
        }
      ]
    },
    {
      "cell_type": "code",
      "source": [
        "# Display the first few rows of the test dataset to verify.\n",
        "raw_test_dataset.head()"
      ],
      "metadata": {
        "id": "8R7oKj4GXjp-",
        "colab": {
          "base_uri": "https://localhost:8080/",
          "height": 224
        },
        "outputId": "cc9b6020-a58c-4119-bf68-078b9013ad6b"
      },
      "execution_count": 10,
      "outputs": [
        {
          "output_type": "execute_result",
          "data": {
            "text/plain": [
              "   4  3  Mon May 11 03:17:40 UTC 2009  kindle2        tpryan  \\\n",
              "0  4  4  Mon May 11 03:18:03 UTC 2009  kindle2        vcu451   \n",
              "1  4  5  Mon May 11 03:18:54 UTC 2009  kindle2        chadfu   \n",
              "2  4  6  Mon May 11 03:19:04 UTC 2009  kindle2         SIX15   \n",
              "3  4  7  Mon May 11 03:21:41 UTC 2009  kindle2      yamarama   \n",
              "4  4  8  Mon May 11 03:22:00 UTC 2009  kindle2  GeorgeVHulme   \n",
              "\n",
              "  @stellargirl I loooooooovvvvvveee my Kindle2. Not that the DX is cool, but the 2 is fantastic in its own right.  \n",
              "0  Reading my kindle2...  Love it... Lee childs i...                                                               \n",
              "1  Ok, first assesment of the #kindle2 ...it fuck...                                                               \n",
              "2  @kenburbary You'll love your Kindle2. I've had...                                                               \n",
              "3  @mikefish  Fair enough. But i have the Kindle2...                                                               \n",
              "4  @richardebaker no. it is too big. I'm quite ha...                                                               "
            ],
            "text/html": [
              "\n",
              "  <div id=\"df-761759c5-b657-4e4d-90c8-0d87a873df25\" class=\"colab-df-container\">\n",
              "    <div>\n",
              "<style scoped>\n",
              "    .dataframe tbody tr th:only-of-type {\n",
              "        vertical-align: middle;\n",
              "    }\n",
              "\n",
              "    .dataframe tbody tr th {\n",
              "        vertical-align: top;\n",
              "    }\n",
              "\n",
              "    .dataframe thead th {\n",
              "        text-align: right;\n",
              "    }\n",
              "</style>\n",
              "<table border=\"1\" class=\"dataframe\">\n",
              "  <thead>\n",
              "    <tr style=\"text-align: right;\">\n",
              "      <th></th>\n",
              "      <th>4</th>\n",
              "      <th>3</th>\n",
              "      <th>Mon May 11 03:17:40 UTC 2009</th>\n",
              "      <th>kindle2</th>\n",
              "      <th>tpryan</th>\n",
              "      <th>@stellargirl I loooooooovvvvvveee my Kindle2. Not that the DX is cool, but the 2 is fantastic in its own right.</th>\n",
              "    </tr>\n",
              "  </thead>\n",
              "  <tbody>\n",
              "    <tr>\n",
              "      <th>0</th>\n",
              "      <td>4</td>\n",
              "      <td>4</td>\n",
              "      <td>Mon May 11 03:18:03 UTC 2009</td>\n",
              "      <td>kindle2</td>\n",
              "      <td>vcu451</td>\n",
              "      <td>Reading my kindle2...  Love it... Lee childs i...</td>\n",
              "    </tr>\n",
              "    <tr>\n",
              "      <th>1</th>\n",
              "      <td>4</td>\n",
              "      <td>5</td>\n",
              "      <td>Mon May 11 03:18:54 UTC 2009</td>\n",
              "      <td>kindle2</td>\n",
              "      <td>chadfu</td>\n",
              "      <td>Ok, first assesment of the #kindle2 ...it fuck...</td>\n",
              "    </tr>\n",
              "    <tr>\n",
              "      <th>2</th>\n",
              "      <td>4</td>\n",
              "      <td>6</td>\n",
              "      <td>Mon May 11 03:19:04 UTC 2009</td>\n",
              "      <td>kindle2</td>\n",
              "      <td>SIX15</td>\n",
              "      <td>@kenburbary You'll love your Kindle2. I've had...</td>\n",
              "    </tr>\n",
              "    <tr>\n",
              "      <th>3</th>\n",
              "      <td>4</td>\n",
              "      <td>7</td>\n",
              "      <td>Mon May 11 03:21:41 UTC 2009</td>\n",
              "      <td>kindle2</td>\n",
              "      <td>yamarama</td>\n",
              "      <td>@mikefish  Fair enough. But i have the Kindle2...</td>\n",
              "    </tr>\n",
              "    <tr>\n",
              "      <th>4</th>\n",
              "      <td>4</td>\n",
              "      <td>8</td>\n",
              "      <td>Mon May 11 03:22:00 UTC 2009</td>\n",
              "      <td>kindle2</td>\n",
              "      <td>GeorgeVHulme</td>\n",
              "      <td>@richardebaker no. it is too big. I'm quite ha...</td>\n",
              "    </tr>\n",
              "  </tbody>\n",
              "</table>\n",
              "</div>\n",
              "    <div class=\"colab-df-buttons\">\n",
              "\n",
              "  <div class=\"colab-df-container\">\n",
              "    <button class=\"colab-df-convert\" onclick=\"convertToInteractive('df-761759c5-b657-4e4d-90c8-0d87a873df25')\"\n",
              "            title=\"Convert this dataframe to an interactive table.\"\n",
              "            style=\"display:none;\">\n",
              "\n",
              "  <svg xmlns=\"http://www.w3.org/2000/svg\" height=\"24px\" viewBox=\"0 -960 960 960\">\n",
              "    <path d=\"M120-120v-720h720v720H120Zm60-500h600v-160H180v160Zm220 220h160v-160H400v160Zm0 220h160v-160H400v160ZM180-400h160v-160H180v160Zm440 0h160v-160H620v160ZM180-180h160v-160H180v160Zm440 0h160v-160H620v160Z\"/>\n",
              "  </svg>\n",
              "    </button>\n",
              "\n",
              "  <style>\n",
              "    .colab-df-container {\n",
              "      display:flex;\n",
              "      gap: 12px;\n",
              "    }\n",
              "\n",
              "    .colab-df-convert {\n",
              "      background-color: #E8F0FE;\n",
              "      border: none;\n",
              "      border-radius: 50%;\n",
              "      cursor: pointer;\n",
              "      display: none;\n",
              "      fill: #1967D2;\n",
              "      height: 32px;\n",
              "      padding: 0 0 0 0;\n",
              "      width: 32px;\n",
              "    }\n",
              "\n",
              "    .colab-df-convert:hover {\n",
              "      background-color: #E2EBFA;\n",
              "      box-shadow: 0px 1px 2px rgba(60, 64, 67, 0.3), 0px 1px 3px 1px rgba(60, 64, 67, 0.15);\n",
              "      fill: #174EA6;\n",
              "    }\n",
              "\n",
              "    .colab-df-buttons div {\n",
              "      margin-bottom: 4px;\n",
              "    }\n",
              "\n",
              "    [theme=dark] .colab-df-convert {\n",
              "      background-color: #3B4455;\n",
              "      fill: #D2E3FC;\n",
              "    }\n",
              "\n",
              "    [theme=dark] .colab-df-convert:hover {\n",
              "      background-color: #434B5C;\n",
              "      box-shadow: 0px 1px 3px 1px rgba(0, 0, 0, 0.15);\n",
              "      filter: drop-shadow(0px 1px 2px rgba(0, 0, 0, 0.3));\n",
              "      fill: #FFFFFF;\n",
              "    }\n",
              "  </style>\n",
              "\n",
              "    <script>\n",
              "      const buttonEl =\n",
              "        document.querySelector('#df-761759c5-b657-4e4d-90c8-0d87a873df25 button.colab-df-convert');\n",
              "      buttonEl.style.display =\n",
              "        google.colab.kernel.accessAllowed ? 'block' : 'none';\n",
              "\n",
              "      async function convertToInteractive(key) {\n",
              "        const element = document.querySelector('#df-761759c5-b657-4e4d-90c8-0d87a873df25');\n",
              "        const dataTable =\n",
              "          await google.colab.kernel.invokeFunction('convertToInteractive',\n",
              "                                                    [key], {});\n",
              "        if (!dataTable) return;\n",
              "\n",
              "        const docLinkHtml = 'Like what you see? Visit the ' +\n",
              "          '<a target=\"_blank\" href=https://colab.research.google.com/notebooks/data_table.ipynb>data table notebook</a>'\n",
              "          + ' to learn more about interactive tables.';\n",
              "        element.innerHTML = '';\n",
              "        dataTable['output_type'] = 'display_data';\n",
              "        await google.colab.output.renderOutput(dataTable, element);\n",
              "        const docLink = document.createElement('div');\n",
              "        docLink.innerHTML = docLinkHtml;\n",
              "        element.appendChild(docLink);\n",
              "      }\n",
              "    </script>\n",
              "  </div>\n",
              "\n",
              "\n",
              "<div id=\"df-f0e4072c-e612-4f9f-8502-c9071489061c\">\n",
              "  <button class=\"colab-df-quickchart\" onclick=\"quickchart('df-f0e4072c-e612-4f9f-8502-c9071489061c')\"\n",
              "            title=\"Suggest charts\"\n",
              "            style=\"display:none;\">\n",
              "\n",
              "<svg xmlns=\"http://www.w3.org/2000/svg\" height=\"24px\"viewBox=\"0 0 24 24\"\n",
              "     width=\"24px\">\n",
              "    <g>\n",
              "        <path d=\"M19 3H5c-1.1 0-2 .9-2 2v14c0 1.1.9 2 2 2h14c1.1 0 2-.9 2-2V5c0-1.1-.9-2-2-2zM9 17H7v-7h2v7zm4 0h-2V7h2v10zm4 0h-2v-4h2v4z\"/>\n",
              "    </g>\n",
              "</svg>\n",
              "  </button>\n",
              "\n",
              "<style>\n",
              "  .colab-df-quickchart {\n",
              "      --bg-color: #E8F0FE;\n",
              "      --fill-color: #1967D2;\n",
              "      --hover-bg-color: #E2EBFA;\n",
              "      --hover-fill-color: #174EA6;\n",
              "      --disabled-fill-color: #AAA;\n",
              "      --disabled-bg-color: #DDD;\n",
              "  }\n",
              "\n",
              "  [theme=dark] .colab-df-quickchart {\n",
              "      --bg-color: #3B4455;\n",
              "      --fill-color: #D2E3FC;\n",
              "      --hover-bg-color: #434B5C;\n",
              "      --hover-fill-color: #FFFFFF;\n",
              "      --disabled-bg-color: #3B4455;\n",
              "      --disabled-fill-color: #666;\n",
              "  }\n",
              "\n",
              "  .colab-df-quickchart {\n",
              "    background-color: var(--bg-color);\n",
              "    border: none;\n",
              "    border-radius: 50%;\n",
              "    cursor: pointer;\n",
              "    display: none;\n",
              "    fill: var(--fill-color);\n",
              "    height: 32px;\n",
              "    padding: 0;\n",
              "    width: 32px;\n",
              "  }\n",
              "\n",
              "  .colab-df-quickchart:hover {\n",
              "    background-color: var(--hover-bg-color);\n",
              "    box-shadow: 0 1px 2px rgba(60, 64, 67, 0.3), 0 1px 3px 1px rgba(60, 64, 67, 0.15);\n",
              "    fill: var(--button-hover-fill-color);\n",
              "  }\n",
              "\n",
              "  .colab-df-quickchart-complete:disabled,\n",
              "  .colab-df-quickchart-complete:disabled:hover {\n",
              "    background-color: var(--disabled-bg-color);\n",
              "    fill: var(--disabled-fill-color);\n",
              "    box-shadow: none;\n",
              "  }\n",
              "\n",
              "  .colab-df-spinner {\n",
              "    border: 2px solid var(--fill-color);\n",
              "    border-color: transparent;\n",
              "    border-bottom-color: var(--fill-color);\n",
              "    animation:\n",
              "      spin 1s steps(1) infinite;\n",
              "  }\n",
              "\n",
              "  @keyframes spin {\n",
              "    0% {\n",
              "      border-color: transparent;\n",
              "      border-bottom-color: var(--fill-color);\n",
              "      border-left-color: var(--fill-color);\n",
              "    }\n",
              "    20% {\n",
              "      border-color: transparent;\n",
              "      border-left-color: var(--fill-color);\n",
              "      border-top-color: var(--fill-color);\n",
              "    }\n",
              "    30% {\n",
              "      border-color: transparent;\n",
              "      border-left-color: var(--fill-color);\n",
              "      border-top-color: var(--fill-color);\n",
              "      border-right-color: var(--fill-color);\n",
              "    }\n",
              "    40% {\n",
              "      border-color: transparent;\n",
              "      border-right-color: var(--fill-color);\n",
              "      border-top-color: var(--fill-color);\n",
              "    }\n",
              "    60% {\n",
              "      border-color: transparent;\n",
              "      border-right-color: var(--fill-color);\n",
              "    }\n",
              "    80% {\n",
              "      border-color: transparent;\n",
              "      border-right-color: var(--fill-color);\n",
              "      border-bottom-color: var(--fill-color);\n",
              "    }\n",
              "    90% {\n",
              "      border-color: transparent;\n",
              "      border-bottom-color: var(--fill-color);\n",
              "    }\n",
              "  }\n",
              "</style>\n",
              "\n",
              "  <script>\n",
              "    async function quickchart(key) {\n",
              "      const quickchartButtonEl =\n",
              "        document.querySelector('#' + key + ' button');\n",
              "      quickchartButtonEl.disabled = true;  // To prevent multiple clicks.\n",
              "      quickchartButtonEl.classList.add('colab-df-spinner');\n",
              "      try {\n",
              "        const charts = await google.colab.kernel.invokeFunction(\n",
              "            'suggestCharts', [key], {});\n",
              "      } catch (error) {\n",
              "        console.error('Error during call to suggestCharts:', error);\n",
              "      }\n",
              "      quickchartButtonEl.classList.remove('colab-df-spinner');\n",
              "      quickchartButtonEl.classList.add('colab-df-quickchart-complete');\n",
              "    }\n",
              "    (() => {\n",
              "      let quickchartButtonEl =\n",
              "        document.querySelector('#df-f0e4072c-e612-4f9f-8502-c9071489061c button');\n",
              "      quickchartButtonEl.style.display =\n",
              "        google.colab.kernel.accessAllowed ? 'block' : 'none';\n",
              "    })();\n",
              "  </script>\n",
              "</div>\n",
              "\n",
              "    </div>\n",
              "  </div>\n"
            ],
            "application/vnd.google.colaboratory.intrinsic+json": {
              "type": "dataframe",
              "variable_name": "raw_test_dataset",
              "summary": "{\n  \"name\": \"raw_test_dataset\",\n  \"rows\": 497,\n  \"fields\": [\n    {\n      \"column\": \"4\",\n      \"properties\": {\n        \"dtype\": \"number\",\n        \"std\": 1,\n        \"min\": 0,\n        \"max\": 4,\n        \"num_unique_values\": 3,\n        \"samples\": [\n          4,\n          0,\n          2\n        ],\n        \"semantic_type\": \"\",\n        \"description\": \"\"\n      }\n    },\n    {\n      \"column\": \"3\",\n      \"properties\": {\n        \"dtype\": \"number\",\n        \"std\": 2836,\n        \"min\": 4,\n        \"max\": 14076,\n        \"num_unique_values\": 497,\n        \"samples\": [\n          13077,\n          179,\n          603\n        ],\n        \"semantic_type\": \"\",\n        \"description\": \"\"\n      }\n    },\n    {\n      \"column\": \"Mon May 11 03:17:40 UTC 2009\",\n      \"properties\": {\n        \"dtype\": \"string\",\n        \"num_unique_values\": 497,\n        \"samples\": [\n          \"Sun Jun 14 21:36:04 UTC 2009\",\n          \"Wed May 20 02:40:23 UTC 2009\",\n          \"Mon Jun 08 20:46:01 UTC 2009\"\n        ],\n        \"semantic_type\": \"\",\n        \"description\": \"\"\n      }\n    },\n    {\n      \"column\": \"kindle2\",\n      \"properties\": {\n        \"dtype\": \"category\",\n        \"num_unique_values\": 81,\n        \"samples\": [\n          \"lakers\",\n          \"kindle2\",\n          \"\\\"twitter api\\\"\"\n        ],\n        \"semantic_type\": \"\",\n        \"description\": \"\"\n      }\n    },\n    {\n      \"column\": \"tpryan\",\n      \"properties\": {\n        \"dtype\": \"string\",\n        \"num_unique_values\": 489,\n        \"samples\": [\n          \"CaptainCraigos\",\n          \"a_fio\",\n          \"inBlogs\"\n        ],\n        \"semantic_type\": \"\",\n        \"description\": \"\"\n      }\n    },\n    {\n      \"column\": \"@stellargirl I loooooooovvvvvveee my Kindle2. Not that the DX is cool, but the 2 is fantastic in its own right.\",\n      \"properties\": {\n        \"dtype\": \"string\",\n        \"num_unique_values\": 497,\n        \"samples\": [\n          \"Shit's hitting the fan in Iran...craziness indeed #iranelection\",\n          \"By the way, I'm totally inspired by this freaky Nike commercial: http://snurl.com/icgj9\",\n          \"Google Wave Developer Sandbox Account Request http://bit.ly/2NYlc\"\n        ],\n        \"semantic_type\": \"\",\n        \"description\": \"\"\n      }\n    }\n  ]\n}"
            }
          },
          "metadata": {},
          "execution_count": 10
        }
      ]
    },
    {
      "cell_type": "markdown",
      "source": [
        "It can be observed by inspecting the training and test datasets that the first column contains the labels, whereas the last column houses the text (tweets) we are interested in. Let us confirm the unique values in the labels column."
      ],
      "metadata": {
        "id": "_aYcYMedwh2g"
      }
    },
    {
      "cell_type": "code",
      "source": [
        "# Fetch and print the unique labels in the training data.\n",
        "unique_values_train = raw_train_dataset.iloc[:, 0].unique()\n",
        "print(unique_values_train)"
      ],
      "metadata": {
        "id": "nfpDh2eTxS0h",
        "colab": {
          "base_uri": "https://localhost:8080/"
        },
        "outputId": "027f50a9-d665-4928-df43-ed87882fc8c0"
      },
      "execution_count": 11,
      "outputs": [
        {
          "output_type": "stream",
          "name": "stdout",
          "text": [
            "[0 4]\n"
          ]
        }
      ]
    },
    {
      "cell_type": "code",
      "source": [
        "# Fetch and print the unique labels in the test data.\n",
        "unique_values_test = raw_test_dataset.iloc[:, 0].unique()\n",
        "print(unique_values_test)"
      ],
      "metadata": {
        "id": "fXYUiQwUxhi9",
        "colab": {
          "base_uri": "https://localhost:8080/"
        },
        "outputId": "d9160924-0437-4b0f-b41c-a76b5b882476"
      },
      "execution_count": 12,
      "outputs": [
        {
          "output_type": "stream",
          "name": "stdout",
          "text": [
            "[4 0 2]\n"
          ]
        }
      ]
    },
    {
      "cell_type": "markdown",
      "source": [
        "### Normalize the data"
      ],
      "metadata": {
        "id": "jGEMJq1YwYc5"
      }
    },
    {
      "cell_type": "markdown",
      "source": [
        "We can observe that the training labels comprise of two values, 0 *(negative)* and 4 *(positive)*. Therefore, we will now go ahead and normalize the training labels so that the 4's are converted to 1's (we will use 1 to denote the *positive* labels). This will help us when we build our model / sentiment classifier to perform binary classification."
      ],
      "metadata": {
        "id": "FzP6zzpHyA5P"
      }
    },
    {
      "cell_type": "code",
      "source": [
        "# Normalize the training labels.\n",
        "raw_train_dataset.iloc[:, 0] = raw_train_dataset.iloc[:, 0].apply(lambda x: 0 if x == 0 else 1)"
      ],
      "metadata": {
        "id": "bUGSJWkIaqd0"
      },
      "execution_count": 13,
      "outputs": []
    },
    {
      "cell_type": "markdown",
      "source": [
        "Let us print and confirm the unique labels in the training dataset after performing normalization."
      ],
      "metadata": {
        "id": "aKReLGGA3fs8"
      }
    },
    {
      "cell_type": "code",
      "source": [
        "# Fetch and print the unique labels in the training data after performing normalization.\n",
        "unique_values_train_normalized = raw_train_dataset.iloc[:, 0].unique()\n",
        "print(unique_values_train_normalized)"
      ],
      "metadata": {
        "id": "sii7J46H4gnM",
        "colab": {
          "base_uri": "https://localhost:8080/"
        },
        "outputId": "d0cd0f4a-3005-4ba7-d1b3-d0060b3f3baf"
      },
      "execution_count": 14,
      "outputs": [
        {
          "output_type": "stream",
          "name": "stdout",
          "text": [
            "[0 1]\n"
          ]
        }
      ]
    },
    {
      "cell_type": "markdown",
      "source": [
        "It can also be observed that the test dataset is comprised of the labels 0 *(negative)*, 2 *(neutral)*, and 4 *(positive)*. However, we need to ensure that the training and test data are consistent so that we can evaluate our model (a binary classifier) on the classes it was trained on. We will therefore go ahead and filter out the rows from the test dataset with the label 2 *(neutral)*."
      ],
      "metadata": {
        "id": "m4EqjA0FarnV"
      }
    },
    {
      "cell_type": "code",
      "source": [
        "# Filter out the rows from the test data with the label 2 (neutral).\n",
        "filtered_test_dataset = raw_test_dataset[raw_test_dataset.iloc[:, 0] != 2]"
      ],
      "metadata": {
        "id": "9wwyl860X2JU"
      },
      "execution_count": 15,
      "outputs": []
    },
    {
      "cell_type": "markdown",
      "source": [
        "We will go ahead and take a look at the number of elements in the filtered test dataset."
      ],
      "metadata": {
        "id": "qJVCmJpNR063"
      }
    },
    {
      "cell_type": "code",
      "source": [
        "# Confirm the number of rows / examples in the test dataset after filtering.\n",
        "num_examples_test_filtered = filtered_test_dataset.shape[0]\n",
        "print(\"Number of test examples after filtering:\", num_examples_test_filtered)"
      ],
      "metadata": {
        "colab": {
          "base_uri": "https://localhost:8080/"
        },
        "id": "M4q91kGhRWRF",
        "outputId": "7a3eb4e8-d458-4380-f926-994af37c4109"
      },
      "execution_count": 16,
      "outputs": [
        {
          "output_type": "stream",
          "name": "stdout",
          "text": [
            "Number of test examples after filtering: 358\n"
          ]
        }
      ]
    },
    {
      "cell_type": "markdown",
      "source": [
        "Let us confirm the unique values in the labels column of the test data once again."
      ],
      "metadata": {
        "id": "hsi9Wm7adm7J"
      }
    },
    {
      "cell_type": "code",
      "source": [
        "# Fetch and print the unique labels in the filtered test data.\n",
        "unique_filtered_values_test = filtered_test_dataset.iloc[:, 0].unique()\n",
        "print(unique_filtered_values_test)"
      ],
      "metadata": {
        "id": "votzV1cwZwoS",
        "colab": {
          "base_uri": "https://localhost:8080/"
        },
        "outputId": "9b6e88b8-5c15-4efa-b4c9-a5c39940cbc6"
      },
      "execution_count": 17,
      "outputs": [
        {
          "output_type": "stream",
          "name": "stdout",
          "text": [
            "[4 0]\n"
          ]
        }
      ]
    },
    {
      "cell_type": "markdown",
      "source": [
        "Now that we are sure that the test data comprises of just the labels 0 *(negative)* and 4 *(positive)*, we will go ahead and normalize the test labels so that the 4's are converted to 1's (*positive* labels)."
      ],
      "metadata": {
        "id": "s_tu0L74dwBB"
      }
    },
    {
      "cell_type": "code",
      "source": [
        "# Normalize the test labels.\n",
        "filtered_test_dataset.iloc[:, 0] = filtered_test_dataset.iloc[:, 0].apply(lambda x: 0 if x == 0 else 1)"
      ],
      "metadata": {
        "id": "EQgVgXuSSzcE"
      },
      "execution_count": 18,
      "outputs": []
    },
    {
      "cell_type": "markdown",
      "source": [
        "Let us print and confirm the unique labels in the test dataset after performing normalization."
      ],
      "metadata": {
        "id": "ylS-p2EG455C"
      }
    },
    {
      "cell_type": "code",
      "source": [
        "# Fetch and print the unique labels in the test data after performing normalization.\n",
        "unique_filtered_values_test_normalized = filtered_test_dataset.iloc[:, 0].unique()\n",
        "print(unique_filtered_values_test_normalized)"
      ],
      "metadata": {
        "id": "jaes-V215G1k",
        "colab": {
          "base_uri": "https://localhost:8080/"
        },
        "outputId": "d7788970-aa2c-4219-b968-3a41e7d77708"
      },
      "execution_count": 19,
      "outputs": [
        {
          "output_type": "stream",
          "name": "stdout",
          "text": [
            "[1 0]\n"
          ]
        }
      ]
    },
    {
      "cell_type": "markdown",
      "source": [
        "### Separate out the labels from the features\n"
      ],
      "metadata": {
        "id": "Gdv8ZBaLuwDG"
      }
    },
    {
      "cell_type": "markdown",
      "source": [
        "Let us go ahead and extract the labels and the text data from the training and test datasets for further processing and for feeding into our model later."
      ],
      "metadata": {
        "id": "RUVYIqvj8yAj"
      }
    },
    {
      "cell_type": "code",
      "source": [
        "# Extract the labels (first column) from the training dataset.\n",
        "train_labels = raw_train_dataset.iloc[:, 0].values\n",
        "\n",
        "# Extract the text data (last column) from the training dataset.\n",
        "train_text_data = raw_train_dataset.iloc[:, -1].values\n",
        "\n",
        "# Display the first few labels and text entries from the training dataset to verify.\n",
        "print(train_labels[:5])\n",
        "print(train_text_data[:5])"
      ],
      "metadata": {
        "id": "mxyM-DCPxChx",
        "colab": {
          "base_uri": "https://localhost:8080/"
        },
        "outputId": "99a25f7d-58e6-4f7a-9caa-ca8e457869c5"
      },
      "execution_count": 20,
      "outputs": [
        {
          "output_type": "stream",
          "name": "stdout",
          "text": [
            "[0 0 0 0 0]\n",
            "[\"is upset that he can't update his Facebook by texting it... and might cry as a result  School today also. Blah!\"\n",
            " '@Kenichan I dived many times for the ball. Managed to save 50%  The rest go out of bounds'\n",
            " 'my whole body feels itchy and like its on fire '\n",
            " \"@nationwideclass no, it's not behaving at all. i'm mad. why am i here? because I can't see you all over there. \"\n",
            " '@Kwesidei not the whole crew ']\n"
          ]
        }
      ]
    },
    {
      "cell_type": "code",
      "source": [
        "# Extract the labels (first column) from the test dataset.\n",
        "test_labels = filtered_test_dataset.iloc[:, 0].values\n",
        "\n",
        "# Extract the text data (last column) from the test dataset.\n",
        "test_text_data = filtered_test_dataset.iloc[:, -1].values\n",
        "\n",
        "# Display the first few labels and text entries from the test dataset to verify.\n",
        "print(test_labels[:5])\n",
        "print(test_text_data[:5])"
      ],
      "metadata": {
        "id": "tLDF709m1TCi",
        "colab": {
          "base_uri": "https://localhost:8080/"
        },
        "outputId": "b12b135a-3859-4502-be74-ea132830a863"
      },
      "execution_count": 21,
      "outputs": [
        {
          "output_type": "stream",
          "name": "stdout",
          "text": [
            "[1 1 1 1 1]\n",
            "['Reading my kindle2...  Love it... Lee childs is good read.'\n",
            " 'Ok, first assesment of the #kindle2 ...it fucking rocks!!!'\n",
            " \"@kenburbary You'll love your Kindle2. I've had mine for a few months and never looked back. The new big one is huge! No need for remorse! :)\"\n",
            " \"@mikefish  Fair enough. But i have the Kindle2 and I think it's perfect  :)\"\n",
            " \"@richardebaker no. it is too big. I'm quite happy with the Kindle2.\"]\n"
          ]
        }
      ]
    },
    {
      "cell_type": "markdown",
      "source": [
        "Before proceeding with tokenization of the training and test text data, we will convert the data into strings, which is easier for the TensorFlow / Keras layers to process."
      ],
      "metadata": {
        "id": "SV8xg-KPk2hE"
      }
    },
    {
      "cell_type": "code",
      "source": [
        "# Convert all of the text data to strings.\n",
        "train_text_data = train_text_data.astype(str)\n",
        "test_text_data = test_text_data.astype(str)"
      ],
      "metadata": {
        "id": "_qWl7iO-7idr"
      },
      "execution_count": 22,
      "outputs": []
    },
    {
      "cell_type": "markdown",
      "source": [
        "We will now go ahead and split the training data into training and validation sets. We will use 20% of the training data for validation."
      ],
      "metadata": {
        "id": "Q5rg-RELl4xx"
      }
    },
    {
      "cell_type": "code",
      "source": [
        "# Split the training data into training and validation data.\n",
        "text_train, text_val, labels_train, labels_val = train_test_split(train_text_data, train_labels,  test_size=0.2, random_state=42)"
      ],
      "metadata": {
        "id": "DwmTro9miGpM"
      },
      "execution_count": 23,
      "outputs": []
    },
    {
      "cell_type": "markdown",
      "source": [
        "## About BERT"
      ],
      "metadata": {
        "id": "rVzQLq4HVAd1"
      }
    },
    {
      "cell_type": "markdown",
      "source": [
        "Befor we dive deep and start building our model, let us understand more about BERT and TinyBERT. BERT is a popular deep learning model designed for natural language understanding tasks. Developed by Google, BERT uses bidirectional attention to process text, meaning, it considers context from both the left and right of each token in a sentence. This approach enables BERT to generate rich, contextualized embeddings for each word, capturing nuanced meanings and relationships. Pre-trained on large text corpora through Masked Language Modeling (MLM) and Next Sentence Prediction (NSP), BERT can be fine-tuned for specific tasks such as text classification, question answering, and named entity recognition."
      ],
      "metadata": {
        "id": "ewrg_e9r6qzH"
      }
    },
    {
      "cell_type": "markdown",
      "source": [
        "### BERT pre-training"
      ],
      "metadata": {
        "id": "LfWOV1_FWrSq"
      }
    },
    {
      "cell_type": "markdown",
      "source": [
        "BERT has been pre-trained (implying that BERT offers weights that are pre-trained) using two primary tasks: MLM and NSP.\n",
        "\n",
        "1.   **MLM:** In MLM, BERT is trained to predict missing words in a sentence. During training, some percentage of the input tokens are randomly masked (replaced with a [MASK] token), and BERT is tasked with predicting the original word that was masked.\n",
        "2.   **NSP:** NSP trains BERT to understand the relationship between two sentences. Given two sentences *A* and *B*, BERT predicts whether *B* is the actual next sentence following *A* in the original text, or if it’s just a random sentence."
      ],
      "metadata": {
        "id": "w-IalnSCVuuA"
      }
    },
    {
      "cell_type": "markdown",
      "source": [
        "### Fine-tuning BERT"
      ],
      "metadata": {
        "id": "4sTmLB5aZsIz"
      }
    },
    {
      "cell_type": "markdown",
      "source": [
        "Generally, after pre-training, BERT is fine-tuned on downstream tasks, such as text classification or question answering, where the model’s weights are updated using the task-specific data. In our case, the downstream task is the text / tweet classification for sentiment analysis.\n",
        "\n",
        "\n",
        "*   **Fine-tuning:** The entire BERT model, including the Transformer layers, is retrained on the downstream task, adapting it to the new task while retaining the knowledge from pre-training.\n",
        "*   **Training the Parameters:** All of the layers of BERT are adjusted during fine-tuning to tailor its predictions to the specific task."
      ],
      "metadata": {
        "id": "OsHY17k2ZwhN"
      }
    },
    {
      "cell_type": "markdown",
      "source": [
        "### BERT inputs"
      ],
      "metadata": {
        "id": "7hFMs1DrWzFU"
      }
    },
    {
      "cell_type": "markdown",
      "source": [
        "To fine-tune BERT for a downstream task, it has to be provided with three types of inputs: `input_ids`, `attention_masks`, and `token_type_ids`.\n",
        "\n",
        "1.   **`input_ids`:** Token indices representing each word or subword unit in the input text, generated by BERT’s `WordPiece` tokenizer (such as `BertTokeknizer`) .\n",
        "2.   **`attention_mask`:** A binary mask that highlights which tokens should be attended to (1) and which should be ignored (0), particularly useful when working with padded sequences.\n",
        "3.\t**`token_type_ids`:** Identifiers that differentiate between sequences in tasks with sentence pairs, marking tokens from the first sentence with 0 and the second with 1.\n",
        "\n",
        "By using the `input_ids`, `attention_masks`, and `token_type_ids`, the model leverages its pre-trained knowledge while adapting to the needs of the downstream task."
      ],
      "metadata": {
        "id": "RznkIGBAX0yw"
      }
    },
    {
      "cell_type": "markdown",
      "source": [
        "### Text vectorization with BERT"
      ],
      "metadata": {
        "id": "2WN7WXBQhV70"
      }
    },
    {
      "cell_type": "markdown",
      "source": [
        "BERT processes the input text to achieve vectorization through the following two stages.\n",
        "\n",
        "\n",
        "1.   **Tokenization:** Before using BERT, text is tokenized into subwords using the BERT tokenizer (e.g., `BertTokenizer`), which converts the text into tokens and maps each token to an integer ID from the BERT vocabulary. This process turns the text into a sequence of integers for the model to process.\n",
        "2.   **Embedding Layer:** Once the tokenized input is passed to BERT, the first layer is the embedding layer, where integer token IDs are converted into dense vectors (embeddings). BERT has three types of embeddings:\n",
        "  *   **Token Embeddings:** Vector representation of each token.\n",
        "  *   **Position Embeddings:** Information about the position of each token in the sequence.\n",
        "  *   **Segment Embeddings:** Used to distinguish between different segments in tasks like question answering (e.g., sentence *A* vs. sentence *B*).\n",
        "  \n",
        "The combined embeddings are passed through BERT’s encoder layers, where they undergo further transformation via attention and feed-forward layers. BERT integrates the attention mechanism in each of the model’s encoder layers. Specifically, BERT uses a mechanism called self-attention within its multi-head attention blocks. The entire process converts the text into a meaningful numerical representation (vectorized form), enabling BERT to perform tasks like classification and translation. More [here](https://arxiv.org/abs/1810.04805)."
      ],
      "metadata": {
        "id": "2pODlroJSJlu"
      }
    },
    {
      "cell_type": "markdown",
      "source": [
        "### About TinyBERT"
      ],
      "metadata": {
        "id": "EOVlD3hf42gp"
      }
    },
    {
      "cell_type": "markdown",
      "source": [
        "We will be using TinyBERT for classifying the sentiment of Twitter messages. The reason is that TinyBERT is an optimized, compressed, and distilled version of BERT that offers a good balance between performance and efficiency, making it suitable for applications where speed and resource constraints are important.\n",
        "\n",
        "TinyBERT, as the name suggests, is much smaller and light-weight compared to BERT, with versions typically having 4 or 6 layers, 312 hidden units, and around 14 million parameters (in the 4-layer version). The model is trained using a knowledge distillation process where it learns to mimic the behavior of a larger, teacher BERT model. This involves multiple stages, including embedding layer distillation, attention layer distillation, and prediction layer distillation, making TinyBERT both smaller and more efficient while retaining much of the teacher model’s accuracy."
      ],
      "metadata": {
        "id": "lT5ya1ll45Ui"
      }
    },
    {
      "cell_type": "markdown",
      "source": [
        "## Prepare the data"
      ],
      "metadata": {
        "id": "WwdfZDDR-wQY"
      }
    },
    {
      "cell_type": "markdown",
      "source": [
        "We will now work on preprocessing the text data to be fed into our model / sentiment classifier."
      ],
      "metadata": {
        "id": "wXuJxHWBDivP"
      }
    },
    {
      "cell_type": "markdown",
      "source": [
        "### Handle tokenization"
      ],
      "metadata": {
        "id": "NtuNJkL6DV4E"
      }
    },
    {
      "cell_type": "markdown",
      "source": [
        "Let us go ahead and load the specific TinyBERT tokenizer we want to use - `huawei-noah/TinyBERT_General_4L_312D`. Before that, let us define the maximum sequence length for tokenization. A small token length ensures fast and efficient training."
      ],
      "metadata": {
        "id": "_nr_-jY0Bvph"
      }
    },
    {
      "cell_type": "code",
      "source": [
        "# Define the maximum sequence length for tokenization.\n",
        "max_len = 48\n",
        "\n",
        "# Initialize the tokenizer for the TinyBERT model.\n",
        "# The tokenizer will convert text to token IDs compatible with the 'TinyBERT_General_4L_312D' model.\n",
        "tokenizer = BertTokenizer.from_pretrained('huawei-noah/TinyBERT_General_4L_312D')"
      ],
      "metadata": {
        "id": "FjlMD1SnZeeo",
        "colab": {
          "base_uri": "https://localhost:8080/",
          "height": 208,
          "referenced_widgets": [
            "39896c970a004d2c90a1bc5b95bd6fef",
            "2b999882399046ec8d574096fb2efd0e",
            "fbbc523b5df341b8913c0dbea76c4cb3",
            "d829b3598b9b4631ba74f700d6355db4",
            "fcc6fdb7c98d4fb0ac480ae545c33b5a",
            "d73f934bc3334cf1971230cf214a79aa",
            "05ede2fac8e847c7bb1b9b24e4e12b01",
            "1777207b384e4625844ba8f856ba2de5",
            "9540cd24b491423d824a865dcae76260",
            "fef69e32297a47d9b2a3026c354fcaa3",
            "d59c8f21c5d448df9a03d65466467f8d",
            "f2bb4fe7b86141b6a2df81bd80048d60",
            "47247762dda34110abe8dc23d6565abb",
            "2d87e16d4e5248d4b715ba26d98967e6",
            "4fb3c30307f1494887116cf4a062c2ab",
            "765384c15ce94eceab6fc24fd41ba09f",
            "b5f453c8a01c457493c4068b06294761",
            "c2a8fbe2af2f4c5fabb9f65544b2b81e",
            "c3788a0e4e034421b3714a7122761e27",
            "9d43bd8822884288a2619bafcec7c01a",
            "36d8b2046e614a199805bcef9e2ac4f1",
            "ec14ea67de20401981deb08ec636453e"
          ]
        },
        "outputId": "9fa51dcf-5009-4379-c1a4-e4833206e5a2"
      },
      "execution_count": 24,
      "outputs": [
        {
          "output_type": "stream",
          "name": "stderr",
          "text": [
            "/usr/local/lib/python3.10/dist-packages/huggingface_hub/utils/_token.py:89: UserWarning: \n",
            "The secret `HF_TOKEN` does not exist in your Colab secrets.\n",
            "To authenticate with the Hugging Face Hub, create a token in your settings tab (https://huggingface.co/settings/tokens), set it as secret in your Google Colab and restart your session.\n",
            "You will be able to reuse this secret in all of your notebooks.\n",
            "Please note that authentication is recommended but still optional to access public models or datasets.\n",
            "  warnings.warn(\n"
          ]
        },
        {
          "output_type": "display_data",
          "data": {
            "text/plain": [
              "vocab.txt:   0%|          | 0.00/232k [00:00<?, ?B/s]"
            ],
            "application/vnd.jupyter.widget-view+json": {
              "version_major": 2,
              "version_minor": 0,
              "model_id": "39896c970a004d2c90a1bc5b95bd6fef"
            }
          },
          "metadata": {}
        },
        {
          "output_type": "display_data",
          "data": {
            "text/plain": [
              "config.json:   0%|          | 0.00/409 [00:00<?, ?B/s]"
            ],
            "application/vnd.jupyter.widget-view+json": {
              "version_major": 2,
              "version_minor": 0,
              "model_id": "f2bb4fe7b86141b6a2df81bd80048d60"
            }
          },
          "metadata": {}
        }
      ]
    },
    {
      "cell_type": "markdown",
      "source": [
        "We have to ensure that the tokenizer pads the input sequences to the maximum length for consistent input size and truncates the sequences that exceed the maximum length."
      ],
      "metadata": {
        "id": "ebJboyo-CW4o"
      }
    },
    {
      "cell_type": "code",
      "source": [
        "# Tokenization function to process and convert the text data into token IDs.\n",
        "def tokenize_function(texts):\n",
        "    return tokenizer(\n",
        "        texts.tolist(), # Convert input texts to a list of strings.\n",
        "        padding=True, # Pad sequences to the maximum length for consistent input size.\n",
        "        truncation=True, # Truncate sequences that exceed the maximum length.\n",
        "        max_length=max_len, # Set the maximum sequence length for tokenization.\n",
        "        return_tensors=\"tf\" # Return the tokenized data as TensorFlow tensors.\n",
        "    )"
      ],
      "metadata": {
        "id": "X-rZ9PhoZsaZ"
      },
      "execution_count": 25,
      "outputs": []
    },
    {
      "cell_type": "markdown",
      "source": [
        "We will now go ahead and tokenize the training, validation, and text text data and convert them into TensorFlow-compatible encodings to be fed to the TinyBERT model."
      ],
      "metadata": {
        "id": "kqHCVhM0nFol"
      }
    },
    {
      "cell_type": "code",
      "source": [
        "# Tokenize the training text data and convert it into TensorFlow-compatible encodings.\n",
        "train_encodings = tokenize_function(text_train)\n",
        "\n",
        "# Tokenize the validation text data and convert it into TensorFlow-compatible encodings.\n",
        "val_encodings = tokenize_function(text_val)\n",
        "\n",
        "# Tokenize the test text data and convert it into TensorFlow-compatible encodings.\n",
        "test_encodings = tokenize_function(test_text_data)"
      ],
      "metadata": {
        "id": "ihIF-yQMaBeg"
      },
      "execution_count": 26,
      "outputs": []
    },
    {
      "cell_type": "markdown",
      "source": [
        "### Configure the data for performance"
      ],
      "metadata": {
        "id": "VfEbuUh0EO6K"
      }
    },
    {
      "cell_type": "markdown",
      "source": [
        "Firstly, we will have to convert our data into TensorFlow datasets. This step ensures efficient data handling, allows for batching, and integrates seamlessly with TensorFlow / Keras models, resulting in faster and more effective training.\n",
        "\n",
        "Let us go ahead and create the TensorFlow training, validation, and test datasets from the tokenized inputs and the training, validation, and test labels respectively, and batch them."
      ],
      "metadata": {
        "id": "J6QpGdT0y1Op"
      }
    },
    {
      "cell_type": "code",
      "source": [
        "# Define the batch size for training, validation, and testing.\n",
        "batch_size = 256"
      ],
      "metadata": {
        "id": "vKUfhIuyaF0w"
      },
      "execution_count": 27,
      "outputs": []
    },
    {
      "cell_type": "code",
      "source": [
        "# Create the TensorFlow training dataset from the tokenized inputs and training labels and batch it.\n",
        "train_dataset = tf.data.Dataset.from_tensor_slices((\n",
        "    dict(train_encodings),  # Tokenized training inputs.\n",
        "    labels_train             # Training labels.\n",
        ")).batch(batch_size)          # Group the data into batches of size 'batch_size'.\n",
        "\n",
        "# Create the TensorFlow validation dataset from the tokenized inputs and validation labels and batch it.\n",
        "val_dataset = tf.data.Dataset.from_tensor_slices((\n",
        "    dict(val_encodings),    # Tokenized validation inputs.\n",
        "    labels_val              # Validation labels.\n",
        ")).batch(batch_size)        # Group the data into batches of size 'batch_size'.\n",
        "\n",
        "# Create the TensorFlow test dataset from the tokenized inputs and test labels and batch it.\n",
        "test_dataset = tf.data.Dataset.from_tensor_slices((\n",
        "    dict(test_encodings),   # Tokenized test inputs.\n",
        "    test_labels             # Test labels.\n",
        ")).batch(batch_size)       # Group the data into batches of size 'batch_size'."
      ],
      "metadata": {
        "id": "ev9oAgtencsi"
      },
      "execution_count": 28,
      "outputs": []
    },
    {
      "cell_type": "markdown",
      "source": [
        "There are two important methods that should be used when loading data to make sure that I/O does not become blocking.\n",
        "1.   `cache()` keeps data in memory after it's loaded off disk. This will ensure the dataset does not become a bottleneck while training the model.\n",
        "2.   `prefetch()` overlaps data preprocessing and model execution while training.\n",
        "\n",
        "More on both of the aforementioned methods, as well as how to cache data to disk in the data performance guide [here](https://www.tensorflow.org/guide/data_performance)."
      ],
      "metadata": {
        "id": "ADROpDdFzbKa"
      }
    },
    {
      "cell_type": "code",
      "source": [
        "# Automatically tune the buffer size for optimal data loading performance.\n",
        "AUTOTUNE = tf.data.AUTOTUNE\n",
        "\n",
        "# Define the buffer size for shuffling the dataset.\n",
        "buffer_size = 10000\n",
        "\n",
        "# Cache, shuffle, and prefetch the datasets to improve performance.\n",
        "train_ds = train_dataset.cache().shuffle(buffer_size).prefetch(buffer_size=AUTOTUNE)\n",
        "val_ds = val_dataset.cache().prefetch(buffer_size=AUTOTUNE)\n",
        "test_ds = test_dataset.cache().prefetch(buffer_size=AUTOTUNE)"
      ],
      "metadata": {
        "id": "c4BHQUvEaIR0"
      },
      "execution_count": 29,
      "outputs": []
    },
    {
      "cell_type": "markdown",
      "source": [
        "## Distributed training and parallelization"
      ],
      "metadata": {
        "id": "wmQg9SSXEfAQ"
      }
    },
    {
      "cell_type": "markdown",
      "source": [
        "As indicated earlier, we would leverage TensorFlow's distributed computing framework to optimize the use of computational resources and to minimize the time and cost required to train our model. Let us set up TensorFlow to leverage TPU resources for distributed training.\n",
        "\n",
        "The `TPUClusterResolver` connects to the TPU system, initializes it, and that the TPU resources are ready and properly configured before starting the training process."
      ],
      "metadata": {
        "id": "zQ9pfz801Lw3"
      }
    },
    {
      "cell_type": "code",
      "source": [
        "# Initialize the TPU cluster resolver to connect to the TPU system.\n",
        "resolver = tf.distribute.cluster_resolver.TPUClusterResolver()\n",
        "\n",
        "# Connect to the TPU cluster using the resolver.\n",
        "tf.config.experimental_connect_to_cluster(resolver)\n",
        "\n",
        "# Initialize the TPU system to prepare it for training.\n",
        "tf.tpu.experimental.initialize_tpu_system(resolver)"
      ],
      "metadata": {
        "id": "JmNqEOz5fZIN",
        "colab": {
          "base_uri": "https://localhost:8080/"
        },
        "outputId": "6056523a-4ade-4d99-89b4-03fb1c2f9cba"
      },
      "execution_count": 30,
      "outputs": [
        {
          "output_type": "execute_result",
          "data": {
            "text/plain": [
              "<tensorflow.python.tpu.topology.Topology at 0x7fa9d9214d00>"
            ]
          },
          "metadata": {},
          "execution_count": 30
        }
      ]
    },
    {
      "cell_type": "markdown",
      "source": [
        "We will now define a strategy to distribute the training across TPU cores, aiming to accelerate and optimize the training process. It is worth noting that in this particular case, distributed computing using the `TPUStrategy` reduces the training time by a factor of hundreds, as compared to the time required to train the model without implementing parallelization."
      ],
      "metadata": {
        "id": "oEWyFrK73ySn"
      }
    },
    {
      "cell_type": "code",
      "source": [
        "# Step 2: Define the distribution strategy to distribute the training across the TPU cores.\n",
        "strategy = tf.distribute.TPUStrategy(resolver)"
      ],
      "metadata": {
        "id": "tK9VODJ96i1Q"
      },
      "execution_count": 31,
      "outputs": []
    },
    {
      "cell_type": "markdown",
      "source": [
        "## Build and train the model"
      ],
      "metadata": {
        "id": "LErwASPfF7M-"
      }
    },
    {
      "cell_type": "markdown",
      "source": [
        "Let us go ahead and define our binary classifier - a fine-tuned TinyBERT model, and optimize the training process."
      ],
      "metadata": {
        "id": "at2RY3FkZ7vu"
      }
    },
    {
      "cell_type": "markdown",
      "source": [
        "### Define the model\n",
        "\n",
        " We will load, build, and compile the model with our distributed TPU training strategy by using the function `strategy.scope()`.\n",
        "\n",
        "The pretrained TinyBERT model we will use, `huawei-noah/TinyBERT_General_4L_312D`, is loaded from a PyTorch checkpoint, as the TensorFlow checkpoint is not currently available. The parameter `from_pt=True` allows us to achieve the same.\n",
        "\n",
        "As stated earlier, the TinyBERT model will have `input_ids`, `attention mask`, and `token_type_ids` as its inputs and we will extract the logits from its output. The logits are the raw, unnormalized predictions generated by the model and will be fed to the Dropout layer.\n",
        "\n",
        "`Dropout` will be used to regularize the final model (let us refer to it as the BERT model) by randomly setting a fraction (30% here) of its input units to 0 during training to prevent overfitting. Next, we will add a dense layer to help the BERT model learn complex representations of text. The final layer is a single-unit layer with a sigmoid activation function for binary classification (outputs a probability of a class or label, i.e., *positive* or *negative* sentiment).\n",
        "\n",
        "### Select the loss function, optimizer, learning rate, and evaluation metric\n",
        "\n",
        "The model needs a loss function and an optimizer for training. Since this is a binary classification problem and the BERT model outputs a probability, we will use the `BinaryCrossentropy` loss function.\n",
        "\n",
        "We will go ahead and configure the BERT model to use an optimizer (`Adam`) and the `BinaryCrossentropy` loss function. Also, we will start off with a learning rate of 2e-5, decay the rate after every 10000 steps of `Adam`, and end at a learning rate of 0.\n",
        "\n",
        "We will use a learning rate schedule using `PolynomialDecay`. The parameter `power` determines the power of the polynomial decay function. Specifically, we will use linear decay with a power of 1 to start with, for the sake of simplicity. However, the parameter allows us to experiment with the rate of decay of the learning rate.\n",
        "\n",
        "Additionally, `accuracy` will be used as the metric of our binary classifier. The BERT model will output a probability with a default threshold of 0.5, which is commonly used. This implies that if the probability output by the BERT model is greater than or equal to 0.5, we will label it as 1 (*positive* sentiment), while if the probability is less than 0.5, we will label it as 0 (*negative* sentiment).\n",
        "\n",
        "Finally, we will go ahead and compile the BERT model."
      ],
      "metadata": {
        "id": "k6CfcqnUGGjj"
      }
    },
    {
      "cell_type": "code",
      "source": [
        "def create_bert_model(max_len,\n",
        "                      initial_learning_rate=2e-5,\n",
        "                      dropout_rate=0.3,\n",
        "                      decay_steps=10000,\n",
        "                      end_learning_rate=0.0,\n",
        "                      power=1.0):\n",
        "    \"\"\"\n",
        "    Function to create and compile a BERT model for sequence classification.\n",
        "\n",
        "    Parameters:\n",
        "    - max_len: Maximum sequence length for the model inputs.\n",
        "    - initial_learning_rate: Initial learning rate for the optimizer.\n",
        "    - dropout_rate: Dropout rate applied after the BERT outputs.\n",
        "    - num_labels: Number of labels/classes for the classification task.\n",
        "    - decay_steps: Number of steps over which the learning rate decays.\n",
        "    - end_learning_rate: The final learning rate after decay.\n",
        "    - power: The power of the polynomial decay function.\n",
        "\n",
        "    Returns:\n",
        "    - bert_model: Compiled Keras model ready for training.\n",
        "    \"\"\"\n",
        "\n",
        "    # Define the scope for distributed training using the specified strategy.\n",
        "    with strategy.scope():\n",
        "        # Load the pre-trained TinyBERT model for sequence classification with 2 output labels.\n",
        "        model = TFBertForSequenceClassification.from_pretrained(\n",
        "            'huawei-noah/TinyBERT_General_4L_312D',\n",
        "            num_labels=2, # 2 labels for the positive and negative classes.\n",
        "            from_pt=True # Specify that the model should be loaded from a PyTorch checkpoint.\n",
        "        )\n",
        "\n",
        "        # Define the input layers for the model with the specified maximum sequence length.\n",
        "        # These inputs will be used to feed the tokenized data into the BERT model.\n",
        "        input_ids = tf.keras.layers.Input(shape=(max_len,), dtype=tf.int32, name='input_ids')\n",
        "\n",
        "        # Define input layer for attention masks, indicating which tokens should be attended to.\n",
        "        attention_mask = tf.keras.layers.Input(shape=(max_len,), dtype=tf.int32, name='attention_mask')\n",
        "\n",
        "        # Define input layer for token type IDs, used to distinguish different segments of input sequences.\n",
        "        token_type_ids = tf.keras.layers.Input(shape=(max_len,), dtype=tf.int32, name='token_type_ids')\n",
        "\n",
        "        # Pass the input tensors through the BERT model to obtain output logits.\n",
        "        bert_outputs = model(input_ids, attention_mask=attention_mask, token_type_ids=token_type_ids)\n",
        "\n",
        "        # Extract the logits (raw prediction scores) from the BERT model's outputs.\n",
        "        logits = bert_outputs.logits\n",
        "\n",
        "        # Apply dropout to the logits.\n",
        "        x = tf.keras.layers.Dropout(dropout_rate)(logits)\n",
        "\n",
        "        # Add a fully connected layer with ReLU activation.\n",
        "        x = tf.keras.layers.Dense(128, activation='relu')(x)\n",
        "\n",
        "        # Final output layer with a sigmoid activation for binary classification.\n",
        "        x = tf.keras.layers.Dense(1, activation='sigmoid')(x)\n",
        "\n",
        "        # Create the final BERT model.\n",
        "        bert_model = tf.keras.Model(inputs=[input_ids, attention_mask, token_type_ids], outputs=x)\n",
        "\n",
        "        # Define the learning rate schedule.\n",
        "        lr_schedule = tf.keras.optimizers.schedules.PolynomialDecay(\n",
        "            initial_learning_rate,\n",
        "            decay_steps=decay_steps,\n",
        "            end_learning_rate=end_learning_rate,\n",
        "            power=power\n",
        "        )\n",
        "\n",
        "        # Initialize the optimizer with the learning rate schedule.\n",
        "        optimizer = tf.keras.optimizers.Adam(learning_rate=lr_schedule)\n",
        "\n",
        "        # Compile the model.\n",
        "        bert_model.compile(\n",
        "            optimizer=optimizer,\n",
        "            loss='binary_crossentropy',\n",
        "            metrics=['accuracy']\n",
        "        )\n",
        "    return bert_model"
      ],
      "metadata": {
        "id": "PT7pTyw-eyuH"
      },
      "execution_count": 32,
      "outputs": []
    },
    {
      "cell_type": "markdown",
      "source": [
        "Let us create our BERT model and confirm the summary of the model's architecture."
      ],
      "metadata": {
        "id": "1CzhJqsbZA-p"
      }
    },
    {
      "cell_type": "code",
      "source": [
        "# Create a BERT model for sequence classification using the specified maximum sequence length.\n",
        "bert_model = create_bert_model(max_len)\n",
        "\n",
        "# Print a summary of the model architecture.\n",
        "bert_model.summary()"
      ],
      "metadata": {
        "id": "ImYI57L4K1j6",
        "collapsed": true,
        "colab": {
          "base_uri": "https://localhost:8080/"
        },
        "outputId": "6a3f2032-0889-492d-df8c-85fba56b64c1"
      },
      "execution_count": 35,
      "outputs": [
        {
          "output_type": "stream",
          "name": "stderr",
          "text": [
            "Some weights of the PyTorch model were not used when initializing the TF 2.0 model TFBertForSequenceClassification: ['fit_denses.1.bias', 'fit_denses.3.bias', 'fit_denses.4.bias', 'fit_denses.0.weight', 'fit_denses.0.bias', 'fit_denses.1.weight', 'fit_denses.3.weight', 'fit_denses.4.weight', 'fit_denses.2.weight', 'fit_denses.2.bias']\n",
            "- This IS expected if you are initializing TFBertForSequenceClassification from a PyTorch model trained on another task or with another architecture (e.g. initializing a TFBertForSequenceClassification model from a BertForPreTraining model).\n",
            "- This IS NOT expected if you are initializing TFBertForSequenceClassification from a PyTorch model that you expect to be exactly identical (e.g. initializing a TFBertForSequenceClassification model from a BertForSequenceClassification model).\n",
            "Some weights or buffers of the TF 2.0 model TFBertForSequenceClassification were not initialized from the PyTorch model and are newly initialized: ['classifier.weight', 'classifier.bias']\n",
            "You should probably TRAIN this model on a down-stream task to be able to use it for predictions and inference.\n"
          ]
        },
        {
          "output_type": "stream",
          "name": "stdout",
          "text": [
            "Model: \"model\"\n",
            "__________________________________________________________________________________________________\n",
            " Layer (type)                Output Shape                 Param #   Connected to                  \n",
            "==================================================================================================\n",
            " input_ids (InputLayer)      [(None, 48)]                 0         []                            \n",
            "                                                                                                  \n",
            " attention_mask (InputLayer  [(None, 48)]                 0         []                            \n",
            " )                                                                                                \n",
            "                                                                                                  \n",
            " token_type_ids (InputLayer  [(None, 48)]                 0         []                            \n",
            " )                                                                                                \n",
            "                                                                                                  \n",
            " tf_bert_for_sequence_class  TFSequenceClassifierOutput   1435087   ['input_ids[0][0]',           \n",
            " ification_2 (TFBertForSequ  (loss=None, logits=(None,    4          'attention_mask[0][0]',      \n",
            " enceClassification)         2),                                     'token_type_ids[0][0]']      \n",
            "                              hidden_states=None, atten                                           \n",
            "                             tions=None)                                                          \n",
            "                                                                                                  \n",
            " dropout_42 (Dropout)        (None, 2)                    0         ['tf_bert_for_sequence_classif\n",
            "                                                                    ication_2[0][0]']             \n",
            "                                                                                                  \n",
            " dense (Dense)               (None, 128)                  384       ['dropout_42[0][0]']          \n",
            "                                                                                                  \n",
            " dense_1 (Dense)             (None, 1)                    129       ['dense[0][0]']               \n",
            "                                                                                                  \n",
            "==================================================================================================\n",
            "Total params: 14351387 (54.75 MB)\n",
            "Trainable params: 14351387 (54.75 MB)\n",
            "Non-trainable params: 0 (0.00 Byte)\n",
            "__________________________________________________________________________________________________\n"
          ]
        }
      ]
    },
    {
      "cell_type": "markdown",
      "source": [
        "### Train the model"
      ],
      "metadata": {
        "id": "zLTbt6U-atRV"
      }
    },
    {
      "cell_type": "markdown",
      "source": [
        "Let us go ahead and train our BERT model and fit it to the training data and validate it on the validation data."
      ],
      "metadata": {
        "id": "r-c_eYFLarXW"
      }
    },
    {
      "cell_type": "code",
      "source": [
        "# Number of epochs to train the data.\n",
        "epochs = 10\n",
        "\n",
        "# Train and fit the model.\n",
        "history = bert_model.fit(\n",
        "    train_ds,\n",
        "    validation_data=val_ds,\n",
        "    epochs=epochs,\n",
        "    batch_size=batch_size,\n",
        "    verbose=1)"
      ],
      "metadata": {
        "id": "k1PViQzzDQyH",
        "colab": {
          "base_uri": "https://localhost:8080/"
        },
        "outputId": "e3394a39-65dd-4184-9bde-b37f078edb35"
      },
      "execution_count": 36,
      "outputs": [
        {
          "output_type": "stream",
          "name": "stdout",
          "text": [
            "Epoch 1/10\n",
            "5000/5000 [==============================] - 256s 41ms/step - loss: 0.4391 - accuracy: 0.7925 - val_loss: 0.3586 - val_accuracy: 0.8409\n",
            "Epoch 2/10\n",
            "5000/5000 [==============================] - 195s 39ms/step - loss: 0.4000 - accuracy: 0.8102 - val_loss: 0.3523 - val_accuracy: 0.8435\n",
            "Epoch 3/10\n",
            "5000/5000 [==============================] - 195s 39ms/step - loss: 0.3930 - accuracy: 0.8130 - val_loss: 0.3523 - val_accuracy: 0.8435\n",
            "Epoch 4/10\n",
            "5000/5000 [==============================] - 196s 39ms/step - loss: 0.3933 - accuracy: 0.8134 - val_loss: 0.3523 - val_accuracy: 0.8435\n",
            "Epoch 5/10\n",
            "5000/5000 [==============================] - 196s 39ms/step - loss: 0.3927 - accuracy: 0.8135 - val_loss: 0.3523 - val_accuracy: 0.8435\n",
            "Epoch 6/10\n",
            "5000/5000 [==============================] - 196s 39ms/step - loss: 0.3931 - accuracy: 0.8134 - val_loss: 0.3523 - val_accuracy: 0.8435\n",
            "Epoch 7/10\n",
            "5000/5000 [==============================] - 195s 39ms/step - loss: 0.3928 - accuracy: 0.8137 - val_loss: 0.3523 - val_accuracy: 0.8435\n",
            "Epoch 8/10\n",
            "5000/5000 [==============================] - 196s 39ms/step - loss: 0.3930 - accuracy: 0.8135 - val_loss: 0.3523 - val_accuracy: 0.8435\n",
            "Epoch 9/10\n",
            "5000/5000 [==============================] - 196s 39ms/step - loss: 0.3931 - accuracy: 0.8135 - val_loss: 0.3523 - val_accuracy: 0.8435\n",
            "Epoch 10/10\n",
            "5000/5000 [==============================] - 196s 39ms/step - loss: 0.3931 - accuracy: 0.8134 - val_loss: 0.3523 - val_accuracy: 0.8435\n"
          ]
        }
      ]
    },
    {
      "cell_type": "markdown",
      "source": [
        "## Evaluate the model"
      ],
      "metadata": {
        "id": "q1a7Z_rWH-rq"
      }
    },
    {
      "cell_type": "markdown",
      "source": [
        "In this section, we will perform the following tasks.\n",
        "\n",
        "\n",
        "*   Evaluate how the BERT model performs with the test data.\n",
        "*   Plot the loss and accuracy of the BERT model with the training and validation data.\n",
        "*   Plot the confusion matrix to investigate the BERT model in terms of the false positives and false negatives.\n",
        "*   Have the BERT model classify sentiments across some unseen data that we will feed it with."
      ],
      "metadata": {
        "id": "J8tfa1bAVD-E"
      }
    },
    {
      "cell_type": "markdown",
      "source": [
        "### Performance on test data"
      ],
      "metadata": {
        "id": "eXtN_vjScxqZ"
      }
    },
    {
      "cell_type": "markdown",
      "source": [
        "Let us evaluate the BERT model and see how it performs on the test data in terms of the loss and accuracy."
      ],
      "metadata": {
        "id": "Ph2twS4xIHb_"
      }
    },
    {
      "cell_type": "code",
      "source": [
        "# Evaluate the BERT model in terms of the loss and accuracy on the test data.\n",
        "loss, accuracy = bert_model.evaluate(test_ds)\n",
        "\n",
        "print(f'Test Loss: {loss}')\n",
        "print(f'Test Accuracy: {accuracy}')"
      ],
      "metadata": {
        "id": "cLLJHmj5DVqm",
        "colab": {
          "base_uri": "https://localhost:8080/"
        },
        "outputId": "bcddf01e-efbf-4a75-87fc-974f3ef92100"
      },
      "execution_count": 37,
      "outputs": [
        {
          "output_type": "stream",
          "name": "stdout",
          "text": [
            "2/2 [==============================] - 3s 2s/step - loss: 0.3727 - accuracy: 0.8324\n",
            "Test Loss: 0.37267568707466125\n",
            "Test Accuracy: 0.832402229309082\n"
          ]
        }
      ]
    },
    {
      "cell_type": "markdown",
      "source": [
        "### Plot the training and validation loss and accuracy"
      ],
      "metadata": {
        "id": "XdtAQa8TfR7M"
      }
    },
    {
      "cell_type": "markdown",
      "source": [
        "Let us plot the accuracy and loss of the BERT model for the training and validation data and investigate if we are overfitting or underfitting the data. The `history` objects contains information about the training process that we will leverage."
      ],
      "metadata": {
        "id": "9_yaETvULUCX"
      }
    },
    {
      "cell_type": "code",
      "source": [
        "history_dict = history.history\n",
        "# Explore the information about the training process available in the 'history' object.\n",
        "history_dict.keys()\n",
        "\n",
        "# Training accuracy.\n",
        "acc = history_dict['accuracy']\n",
        "\n",
        "# Validation accuracy.\n",
        "val_acc = history_dict['val_accuracy']\n",
        "\n",
        "# Training loss.\n",
        "loss = history_dict['loss']\n",
        "\n",
        "# Validation loss.\n",
        "val_loss = history_dict['val_loss']\n",
        "\n",
        "# Number of epochs used for training.\n",
        "epochs = range(1, len(acc) + 1)"
      ],
      "metadata": {
        "id": "BrKQ4YFaNy0R"
      },
      "execution_count": 38,
      "outputs": []
    },
    {
      "cell_type": "markdown",
      "source": [
        "We will now plot the training and validation accuracy of the BERT model."
      ],
      "metadata": {
        "id": "4On-pr5PT50B"
      }
    },
    {
      "cell_type": "code",
      "source": [
        "# Function to plot the training and validation accuracy.\n",
        "def plot_accuracy(history):\n",
        "  # Plot the training & validation accuracy values.\n",
        "  plt.figure(figsize=(12, 4))\n",
        "  plt.plot(epochs, acc, label='accuracy')\n",
        "  plt.plot(epochs, val_acc, label='val_accuracy')\n",
        "  plt.title('Model Accuracy')\n",
        "  plt.xlabel('Epoch')\n",
        "  plt.ylabel('Accuracy')\n",
        "  plt.legend(['Train', 'Validation'], loc='upper left')\n",
        "  plt.grid(True)\n",
        "  plt.show()"
      ],
      "metadata": {
        "id": "9ZgdPI-4CBd_"
      },
      "execution_count": 39,
      "outputs": []
    },
    {
      "cell_type": "code",
      "source": [
        "plot_accuracy(history)"
      ],
      "metadata": {
        "id": "Y791s_FDH-gy",
        "colab": {
          "base_uri": "https://localhost:8080/",
          "height": 410
        },
        "outputId": "0d8d9227-ce10-4281-e73a-df2517149c63"
      },
      "execution_count": 40,
      "outputs": [
        {
          "output_type": "display_data",
          "data": {
            "text/plain": [
              "<Figure size 1200x400 with 1 Axes>"
            ],
            "image/png": "[encoded data removed]"
          },
          "metadata": {}
        }
      ]
    },
    {
      "cell_type": "markdown",
      "source": [
        "Let us plot the training and validation loss of the BERT model."
      ],
      "metadata": {
        "id": "WLWR9KEyUBJ_"
      }
    },
    {
      "cell_type": "code",
      "source": [
        "# Function to plot the training and validation loss.\n",
        "def plot_loss(history):\n",
        "  # Plot the training & validation loss values.\n",
        "  plt.figure(figsize=(12, 4))\n",
        "  plt.plot(epochs, loss, label='loss')\n",
        "  plt.plot(epochs, val_loss, label='val_loss')\n",
        "  plt.title('Model Loss')\n",
        "  plt.xlabel('Epoch')\n",
        "  plt.ylabel('Loss')\n",
        "  plt.legend(['Train', 'Validation'], loc='upper left')\n",
        "  plt.grid(True)\n",
        "  plt.show()"
      ],
      "metadata": {
        "id": "3xb8ffqJdB77"
      },
      "execution_count": 41,
      "outputs": []
    },
    {
      "cell_type": "code",
      "source": [
        "plot_loss(history)"
      ],
      "metadata": {
        "id": "M4CFIxLDdDUJ",
        "colab": {
          "base_uri": "https://localhost:8080/",
          "height": 410
        },
        "outputId": "f0239adf-78ab-49c9-b2df-acd1bba83492"
      },
      "execution_count": 42,
      "outputs": [
        {
          "output_type": "display_data",
          "data": {
            "text/plain": [
              "<Figure size 1200x400 with 1 Axes>"
            ],
            "image/png": "[encoded data removed]"
          },
          "metadata": {}
        }
      ]
    },
    {
      "cell_type": "markdown",
      "source": [
        "### Test the model with unseen data"
      ],
      "metadata": {
        "id": "65zNig2_cmkc"
      }
    },
    {
      "cell_type": "markdown",
      "source": [
        "We will feed the BERT model with some random text examples and see how it performs."
      ],
      "metadata": {
        "id": "2C5--MBCf9Si"
      }
    },
    {
      "cell_type": "code",
      "source": [
        "examples = [\n",
        "  \"I am doing well\",\n",
        "  \"The movie was okay.\",\n",
        "  \"I have not been keeping well.\",\n",
        "  \"It's a bright sunny day, let's go fishing!\",\n",
        "  \"Great!\",\n",
        "  \"Disaster!\",\n",
        "  \"I am feeling confident\",\n",
        "  \"I am not feeling confident\",\n",
        "  \"The movie is really bad\"\n",
        "]"
      ],
      "metadata": {
        "id": "wuRTczgSTgLq"
      },
      "execution_count": 57,
      "outputs": []
    },
    {
      "cell_type": "markdown",
      "source": [
        "The function below helps format the examples and their corresponding scores."
      ],
      "metadata": {
        "id": "j-K-JJUacIM6"
      }
    },
    {
      "cell_type": "code",
      "source": [
        "# Prints each input text alongside its corresponding model output score.\n",
        "def print_examples(inputs, results):\n",
        "  \"\"\"\n",
        "  Prints formatted examples with their corresponding scores.\n",
        "\n",
        "  Parameters:\n",
        "  - inputs: list of str\n",
        "      A list of input strings (e.g., text examples) to be printed.\n",
        "  - results: list of list of float\n",
        "      A list of lists, where each inner list contains the scores (e.g., model predictions) for the corresponding input.\n",
        "  \"\"\"\n",
        "  # Format and create a list of strings showing each input and its corresponding score.\n",
        "  result_for_printing = \\\n",
        "    [f'input: {inputs[i]:<30} : score: {results[i][0]:.6f}'\n",
        "                         for i in range(len(inputs))]\n",
        "  print(*result_for_printing, sep='\\n')\n",
        "  print()"
      ],
      "metadata": {
        "id": "_Es9nBOwHe6T"
      },
      "execution_count": 44,
      "outputs": []
    },
    {
      "cell_type": "markdown",
      "source": [
        "Before we test with the examples, we will have to tokenize the examples and convert them into TensorFlow-compatible encodings."
      ],
      "metadata": {
        "id": "OyW1PD2icgSv"
      }
    },
    {
      "cell_type": "code",
      "source": [
        "# Tokenize the examples and convert them into TensorFlow-compatible encodings.\n",
        "encoded_examples = tokenizer(\n",
        "    examples,\n",
        "    padding='max_length',\n",
        "    max_length=max_len,\n",
        "    truncation=True,\n",
        "    return_tensors='tf')"
      ],
      "metadata": {
        "id": "jV61q2n-TjeC"
      },
      "execution_count": 58,
      "outputs": []
    },
    {
      "cell_type": "markdown",
      "source": [
        "We will need the input tensors for passing those into our BERT model. Specifically, we will require the `input_ids`, `attention mask`, and `token_type_ids`."
      ],
      "metadata": {
        "id": "oTS8DJH1coC-"
      }
    },
    {
      "cell_type": "code",
      "source": [
        "# Extract the input tensors.\n",
        "input_ids = encoded_examples['input_ids']\n",
        "attention_masks = encoded_examples['attention_mask']\n",
        "token_type_ids = encoded_examples.get('token_type_ids', None)"
      ],
      "metadata": {
        "id": "kCvWzt49Tl1k"
      },
      "execution_count": 59,
      "outputs": []
    },
    {
      "cell_type": "markdown",
      "source": [
        "Let us go ahead and pass the three input tensors to the BERT model and get the model's output - the results, stored. The `tf.sigmoid` function converts the raw output (logits) of the BERT model into probabilities / scores that lie between 0 and 1."
      ],
      "metadata": {
        "id": "f-D_zbU5dWj0"
      }
    },
    {
      "cell_type": "code",
      "source": [
        "# Pass all of the three input tensors to the BERT model.\n",
        "results = tf.sigmoid(bert_model((input_ids, attention_masks, token_type_ids)))"
      ],
      "metadata": {
        "id": "fBSlndIYONYP",
        "collapsed": true
      },
      "execution_count": 60,
      "outputs": []
    },
    {
      "cell_type": "markdown",
      "source": [
        "The next step is to print the BERT model's output and see how the model is performing with the text examples."
      ],
      "metadata": {
        "id": "6YzMjEfn0eaa"
      }
    },
    {
      "cell_type": "code",
      "source": [
        "print('Results:')\n",
        "print_examples(examples, results)"
      ],
      "metadata": {
        "id": "Qnqrv8ukTzms",
        "colab": {
          "base_uri": "https://localhost:8080/"
        },
        "outputId": "571e5b58-db69-43dd-caf0-0dc53773dc59"
      },
      "execution_count": 61,
      "outputs": [
        {
          "output_type": "stream",
          "name": "stdout",
          "text": [
            "Results:\n",
            "input: I am doing well                : score: 0.719303\n",
            "input: The movie was okay.            : score: 0.650025\n",
            "input: I have not been keeping well.  : score: 0.502861\n",
            "input: It's a bright sunny day, let's go fishing! : score: 0.729490\n",
            "input: Great!                         : score: 0.729350\n",
            "input: Disaster!                      : score: 0.504451\n",
            "input: I am feeling confident         : score: 0.729363\n",
            "input: I am not feeling confident     : score: 0.503775\n",
            "input: The movie is really bad        : score: 0.503682\n",
            "\n"
          ]
        }
      ]
    },
    {
      "cell_type": "markdown",
      "source": [
        "Let us go ahead and define a function that confirms whether the sentiment is *positive* or *negative* based on the score provided by the BERT model and a threshold of 0.5, as mentioned earlier."
      ],
      "metadata": {
        "id": "skt22bRXgQdq"
      }
    },
    {
      "cell_type": "code",
      "source": [
        "# Threshold score that determines the class of a piece of text or tweet.\n",
        "threshold = 0.5"
      ],
      "metadata": {
        "id": "fb-My0OZWSG6"
      },
      "execution_count": 49,
      "outputs": []
    },
    {
      "cell_type": "code",
      "source": [
        "# Output the sentiment of the given example based on a threshold.\n",
        "def interpret_results(results, threshold):\n",
        "  \"\"\"\n",
        "  Prints formatted examples with their corresponding scores.\n",
        "\n",
        "  Parameters:\n",
        "  - results: list of list of float\n",
        "      A list of lists, where each inner list contains the scores (e.g., model predictions) for the corresponding input.\n",
        "  - threshold: float\n",
        "      A float value representing the threshold score for classifying the examples as positive and negative.\n",
        "  \"\"\"\n",
        "  predictions = []\n",
        "  for result in results:\n",
        "      if result <= threshold:\n",
        "        predictions.append(\"Negative Sentiment\")\n",
        "      else:\n",
        "        predictions.append(\"Positive Sentiment\")\n",
        "  return predictions"
      ],
      "metadata": {
        "id": "pm2GY-VokfG7"
      },
      "execution_count": 50,
      "outputs": []
    },
    {
      "cell_type": "markdown",
      "source": [
        "We will now go ahead print the sentiments of the example data."
      ],
      "metadata": {
        "id": "JIkNDp2YeYy-"
      }
    },
    {
      "cell_type": "code",
      "source": [
        "# Interpret the predicted sentiments of the example data.\n",
        "sentiment_results = interpret_results(results, threshold)\n",
        "\n",
        "for result in sentiment_results:\n",
        "    print(result)"
      ],
      "metadata": {
        "id": "Ki0mjXBajEP8",
        "colab": {
          "base_uri": "https://localhost:8080/"
        },
        "outputId": "cd523514-2aa1-4579-c7f4-823c5fb65881"
      },
      "execution_count": 51,
      "outputs": [
        {
          "output_type": "stream",
          "name": "stdout",
          "text": [
            "Positive Sentiment\n",
            "Positive Sentiment\n",
            "Positive Sentiment\n",
            "Positive Sentiment\n",
            "Positive Sentiment\n",
            "Positive Sentiment\n",
            "Positive Sentiment\n",
            "Positive Sentiment\n",
            "Positive Sentiment\n"
          ]
        }
      ]
    },
    {
      "cell_type": "markdown",
      "source": [
        "### Confusion Matrix"
      ],
      "metadata": {
        "id": "xe8DUNSLjDt3"
      }
    },
    {
      "cell_type": "markdown",
      "source": [
        "We will also plot the confusion matrix to investigate how the BERT model performs in terms of the false positives and false negatives. Let us first get the test predictions, which are probabilities, and convert them to our labels 0 and 1 based on our threshold of 0.5."
      ],
      "metadata": {
        "id": "BjgZgb-IO-_Q"
      }
    },
    {
      "cell_type": "code",
      "source": [
        "# Predict with the test data.\n",
        "test_predictions = bert_model.predict(test_ds)\n",
        "predicted_test_labels = (test_predictions > 0.5).astype(\"int32\")"
      ],
      "metadata": {
        "id": "St3q1M3IkuQL",
        "colab": {
          "base_uri": "https://localhost:8080/"
        },
        "outputId": "c0f044a3-9425-46da-d5e8-517570f2bb94"
      },
      "execution_count": 53,
      "outputs": [
        {
          "output_type": "stream",
          "name": "stdout",
          "text": [
            "2/2 [==============================] - 14s 2s/step\n"
          ]
        }
      ]
    },
    {
      "cell_type": "markdown",
      "source": [
        "Next, we will define and plot the confusion matrix based on the labels in the test data and the labels predicted by the BERT model."
      ],
      "metadata": {
        "id": "sskto2AFnNpV"
      }
    },
    {
      "cell_type": "code",
      "source": [
        "# Confusion matrix.\n",
        "cm = confusion_matrix(test_labels, predicted_test_labels)"
      ],
      "metadata": {
        "id": "xGO7K1jbVwLj"
      },
      "execution_count": 54,
      "outputs": []
    },
    {
      "cell_type": "code",
      "source": [
        "# Plot the confusion matrix.\n",
        "plt.figure(figsize=(6, 4))\n",
        "sns.heatmap(cm, annot=True, fmt='d', cmap='Blues', xticklabels=['Negative', 'Positive'], yticklabels=['Negative', 'Positive'])\n",
        "plt.xlabel('Predicted')\n",
        "plt.ylabel('Actual')\n",
        "plt.title('Confusion Matrix')\n",
        "plt.show()"
      ],
      "metadata": {
        "id": "92OSDsJfV7Ha",
        "colab": {
          "base_uri": "https://localhost:8080/",
          "height": 410
        },
        "outputId": "6a819fba-41f5-46cb-9343-bba4a6499e6e"
      },
      "execution_count": 55,
      "outputs": [
        {
          "output_type": "display_data",
          "data": {
            "text/plain": [
              "<Figure size 600x400 with 2 Axes>"
            ],
            "image/png": "[encoded data removed]"
          },
          "metadata": {}
        }
      ]
    },
    {
      "cell_type": "markdown",
      "source": [
        "## Thoughts"
      ],
      "metadata": {
        "id": "PSige5D1pAOM"
      }
    },
    {
      "cell_type": "markdown",
      "source": [
        "The BERt model has an accuracy of about 83% and has about 31 false positives and 29 false negatives out of 358 tweets. The numbers *may* slightly vary across separate occasions of training. However, it is important to note that this is a quick and dirty implementation of a very simple BERT-based model, and the results are not too bad based on the same.\n",
        "\n",
        "It is also worth noting that while the training and validation loss decreases with time, the accuracy increases, before stabilizing and reaching a stage where there is no further noticeable improvement. Therefore, it is unlikely that we are overfitting or underfitting the data.\n",
        "\n",
        "Lastly, if we notice carefully, increasing the threshold of the BERT model to a value greater than 0.5 by defining a custom metric will result in a better accuracy value. However, that may give rise to overfitting, and we will have to deal with that separately."
      ],
      "metadata": {
        "id": "bAahXy84UUaW"
      }
    },
    {
      "cell_type": "markdown",
      "source": [
        "## Next steps"
      ],
      "metadata": {
        "id": "FQtoZXDOUZLc"
      }
    },
    {
      "cell_type": "markdown",
      "source": [
        "Of course, there is a definite scope for improvement in this work. There are multiple ways to further develop this dirty implementation and improve the BERT model's performance / accuracy for the sentiment analysis of the tweets. Some of those are listed below.\n",
        "\n",
        "\n",
        "\n",
        "1.   **Modifying the Architecture:** Adding more layers or increasing the number of units in each layer can help the BERT model learn more complex patterns. Using LSTMs (Long Short-Term Memory), Bidirectional LSTMs, or fully connected / dense layers can help.\n",
        "2.   **Hyperparameter Tuning:** Experimenting with different learning rates, batch sizes, epochs, etc. can help.\n",
        "3.   **Regularization:** Adjusting dropout rates and the strength of L2 regularization can be used to control overfitting.\n",
        "4.   **Data Augmentation:** Using techniques to augment the dataset can help, examples below.\n",
        "  *   **Synonym Replacement:** Replace words with their synonyms.\n",
        "  *   **Random Insertion:** Insert random words.\n",
        "  *   **Random Swap:** Swap words in a sentence.\n",
        "  *   **Random Deletion:** Delete random words.\n",
        "5.   **Ensemble Methods:** Using ensemble methods such as combining predictions from multiple models can improve performance.\n",
        "6.   **Hyperparameter Optimization:** Using libraries, such as [Keras Tuner](https://keras.io/keras_tuner/) or [Optuna](https://optuna.org/) to find the best hyperparameters for the BERT model.\n",
        "7.   **Callbacks:** Using the Trainer API for integrating callbacks, such as EarlyStopping, to optimize the training time and computational resources."
      ],
      "metadata": {
        "id": "3FBafE1YnhyQ"
      }
    },
    {
      "cell_type": "markdown",
      "source": [
        "##### **Note:** It is possible to run into compatibility issues with TensorFlow, Transformers, and the TPU environment. The TPU integrated with this Colab notebook has TensorFlow 2.15 installed."
      ],
      "metadata": {
        "id": "W29lKwjEZjxN"
      }
    }
  ]
}